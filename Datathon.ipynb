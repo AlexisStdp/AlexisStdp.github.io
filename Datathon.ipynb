{
  "nbformat": 4,
  "nbformat_minor": 0,
  "metadata": {
    "colab": {
      "name": "Datathon.ipynb",
      "provenance": [],
      "collapsed_sections": [],
      "authorship_tag": "ABX9TyPJofQwVWRFMpzzW53CvNPt",
      "include_colab_link": true
    },
    "kernelspec": {
      "name": "python3",
      "display_name": "Python 3"
    },
    "language_info": {
      "name": "python"
    }
  },
  "cells": [
    {
      "cell_type": "markdown",
      "metadata": {
        "id": "view-in-github",
        "colab_type": "text"
      },
      "source": [
        "<a href=\"https://colab.research.google.com/github/AlexisStdp/AlexisStdp.github.io/blob/master/Datathon.ipynb\" target=\"_parent\"><img src=\"https://colab.research.google.com/assets/colab-badge.svg\" alt=\"Open In Colab\"/></a>"
      ]
    },
    {
      "cell_type": "code",
      "metadata": {
        "id": "i6egH1Npdwo2"
      },
      "source": [
        "import sklearn\n",
        "import numpy as np\n",
        "import tensorflow as tf\n",
        "import pandas as pd\n",
        "import xgboost as xgb"
      ],
      "execution_count": 1,
      "outputs": []
    },
    {
      "cell_type": "code",
      "metadata": {
        "id": "pnVD6HcMbtqL"
      },
      "source": [
        "from tensorflow import keras\n",
        "from tensorflow.keras import layers, regularizers, Sequential, Model, backend as K\n",
        "from tensorflow.keras.layers import Input, Dense, Dropout, concatenate, Flatten, Conv2D, MaxPooling2D\n",
        "from tensorflow.keras.layers import BatchNormalization"
      ],
      "execution_count": 2,
      "outputs": []
    },
    {
      "cell_type": "code",
      "metadata": {
        "colab": {
          "base_uri": "https://localhost:8080/",
          "height": 640
        },
        "id": "WXwU6ZkzeYRE",
        "outputId": "659448d6-5f01-4daa-b6c3-efa60dd95fa2"
      },
      "source": [
        "X_train = pd.read_csv('X_train.csv')\n",
        "X_train"
      ],
      "execution_count": 3,
      "outputs": [
        {
          "output_type": "execute_result",
          "data": {
            "text/html": [
              "<div>\n",
              "<style scoped>\n",
              "    .dataframe tbody tr th:only-of-type {\n",
              "        vertical-align: middle;\n",
              "    }\n",
              "\n",
              "    .dataframe tbody tr th {\n",
              "        vertical-align: top;\n",
              "    }\n",
              "\n",
              "    .dataframe thead th {\n",
              "        text-align: right;\n",
              "    }\n",
              "</style>\n",
              "<table border=\"1\" class=\"dataframe\">\n",
              "  <thead>\n",
              "    <tr style=\"text-align: right;\">\n",
              "      <th></th>\n",
              "      <th>Id</th>\n",
              "      <th>Date</th>\n",
              "      <th>Lat</th>\n",
              "      <th>long</th>\n",
              "      <th>PropertyTy</th>\n",
              "      <th>Area</th>\n",
              "      <th>postCode</th>\n",
              "      <th>City</th>\n",
              "      <th>Neighborhood</th>\n",
              "      <th>PropertyTy.1</th>\n",
              "      <th>transYear</th>\n",
              "      <th>transMonth</th>\n",
              "      <th>transDays</th>\n",
              "      <th>transQtr</th>\n",
              "      <th>Rooms</th>\n",
              "      <th>Baths</th>\n",
              "      <th>Parking</th>\n",
              "      <th>HasFirepla</th>\n",
              "      <th>HasPool</th>\n",
              "      <th>HasGarage</th>\n",
              "      <th>HasAirCond</th>\n",
              "    </tr>\n",
              "  </thead>\n",
              "  <tbody>\n",
              "    <tr>\n",
              "      <th>0</th>\n",
              "      <td>0</td>\n",
              "      <td>15.12.2010</td>\n",
              "      <td>-37.829457</td>\n",
              "      <td>145.130499</td>\n",
              "      <td>Unit</td>\n",
              "      <td>193</td>\n",
              "      <td>3128</td>\n",
              "      <td>Box Hill</td>\n",
              "      <td>Whitehorse (C) - Box Hill</td>\n",
              "      <td>Unit</td>\n",
              "      <td>2010</td>\n",
              "      <td>7</td>\n",
              "      <td>198</td>\n",
              "      <td>3</td>\n",
              "      <td>3.0</td>\n",
              "      <td>2.0</td>\n",
              "      <td>NaN</td>\n",
              "      <td>NaN</td>\n",
              "      <td>NaN</td>\n",
              "      <td>NaN</td>\n",
              "      <td>0.0</td>\n",
              "    </tr>\n",
              "    <tr>\n",
              "      <th>1</th>\n",
              "      <td>1</td>\n",
              "      <td>30.06.2010</td>\n",
              "      <td>-37.901293</td>\n",
              "      <td>145.040301</td>\n",
              "      <td>Unit</td>\n",
              "      <td>1222</td>\n",
              "      <td>3204</td>\n",
              "      <td>Ormond</td>\n",
              "      <td>Glen Eira (C) - Caulfield</td>\n",
              "      <td>Unit</td>\n",
              "      <td>2010</td>\n",
              "      <td>1</td>\n",
              "      <td>30</td>\n",
              "      <td>1</td>\n",
              "      <td>2.0</td>\n",
              "      <td>NaN</td>\n",
              "      <td>1.0</td>\n",
              "      <td>NaN</td>\n",
              "      <td>0.0</td>\n",
              "      <td>0.0</td>\n",
              "      <td>NaN</td>\n",
              "    </tr>\n",
              "    <tr>\n",
              "      <th>2</th>\n",
              "      <td>2</td>\n",
              "      <td>14.06.2011</td>\n",
              "      <td>-38.088126</td>\n",
              "      <td>145.488687</td>\n",
              "      <td>House</td>\n",
              "      <td>528</td>\n",
              "      <td>3810</td>\n",
              "      <td>Pakenham</td>\n",
              "      <td>Cardinia (S) - Pakenham</td>\n",
              "      <td>House</td>\n",
              "      <td>2011</td>\n",
              "      <td>13</td>\n",
              "      <td>379</td>\n",
              "      <td>5</td>\n",
              "      <td>4.0</td>\n",
              "      <td>2.0</td>\n",
              "      <td>2.0</td>\n",
              "      <td>0.0</td>\n",
              "      <td>0.0</td>\n",
              "      <td>NaN</td>\n",
              "      <td>0.0</td>\n",
              "    </tr>\n",
              "    <tr>\n",
              "      <th>3</th>\n",
              "      <td>3</td>\n",
              "      <td>12.05.2011</td>\n",
              "      <td>-37.885781</td>\n",
              "      <td>144.776041</td>\n",
              "      <td>House</td>\n",
              "      <td>557</td>\n",
              "      <td>3028</td>\n",
              "      <td>Altona Meadows</td>\n",
              "      <td>Hobsons Bay (C) - Altona</td>\n",
              "      <td>House</td>\n",
              "      <td>2011</td>\n",
              "      <td>12</td>\n",
              "      <td>346</td>\n",
              "      <td>4</td>\n",
              "      <td>NaN</td>\n",
              "      <td>3.0</td>\n",
              "      <td>4.0</td>\n",
              "      <td>NaN</td>\n",
              "      <td>0.0</td>\n",
              "      <td>1.0</td>\n",
              "      <td>0.0</td>\n",
              "    </tr>\n",
              "    <tr>\n",
              "      <th>4</th>\n",
              "      <td>4</td>\n",
              "      <td>21.09.2010</td>\n",
              "      <td>-37.836286</td>\n",
              "      <td>144.943116</td>\n",
              "      <td>House</td>\n",
              "      <td>111</td>\n",
              "      <td>3207</td>\n",
              "      <td>Port Melbourne</td>\n",
              "      <td>Port Phillip (C) - West</td>\n",
              "      <td>House</td>\n",
              "      <td>2010</td>\n",
              "      <td>4</td>\n",
              "      <td>113</td>\n",
              "      <td>2</td>\n",
              "      <td>NaN</td>\n",
              "      <td>1.0</td>\n",
              "      <td>NaN</td>\n",
              "      <td>0.0</td>\n",
              "      <td>0.0</td>\n",
              "      <td>0.0</td>\n",
              "      <td>NaN</td>\n",
              "    </tr>\n",
              "    <tr>\n",
              "      <th>...</th>\n",
              "      <td>...</td>\n",
              "      <td>...</td>\n",
              "      <td>...</td>\n",
              "      <td>...</td>\n",
              "      <td>...</td>\n",
              "      <td>...</td>\n",
              "      <td>...</td>\n",
              "      <td>...</td>\n",
              "      <td>...</td>\n",
              "      <td>...</td>\n",
              "      <td>...</td>\n",
              "      <td>...</td>\n",
              "      <td>...</td>\n",
              "      <td>...</td>\n",
              "      <td>...</td>\n",
              "      <td>...</td>\n",
              "      <td>...</td>\n",
              "      <td>...</td>\n",
              "      <td>...</td>\n",
              "      <td>...</td>\n",
              "      <td>...</td>\n",
              "    </tr>\n",
              "    <tr>\n",
              "      <th>84563</th>\n",
              "      <td>84563</td>\n",
              "      <td>29.12.2012</td>\n",
              "      <td>-37.811613</td>\n",
              "      <td>145.123794</td>\n",
              "      <td>Unit</td>\n",
              "      <td>138</td>\n",
              "      <td>3129</td>\n",
              "      <td>Box Hill North</td>\n",
              "      <td>Whitehorse (C) - Box Hill</td>\n",
              "      <td>Unit</td>\n",
              "      <td>2012</td>\n",
              "      <td>31</td>\n",
              "      <td>943</td>\n",
              "      <td>11</td>\n",
              "      <td>NaN</td>\n",
              "      <td>NaN</td>\n",
              "      <td>NaN</td>\n",
              "      <td>0.0</td>\n",
              "      <td>NaN</td>\n",
              "      <td>0.0</td>\n",
              "      <td>0.0</td>\n",
              "    </tr>\n",
              "    <tr>\n",
              "      <th>84564</th>\n",
              "      <td>84564</td>\n",
              "      <td>26.02.2011</td>\n",
              "      <td>-37.830895</td>\n",
              "      <td>145.044432</td>\n",
              "      <td>House</td>\n",
              "      <td>249</td>\n",
              "      <td>3123</td>\n",
              "      <td>Hawthorn East</td>\n",
              "      <td>Boroondara (C) - Hawthorn</td>\n",
              "      <td>House</td>\n",
              "      <td>2011</td>\n",
              "      <td>9</td>\n",
              "      <td>271</td>\n",
              "      <td>3</td>\n",
              "      <td>3.0</td>\n",
              "      <td>1.0</td>\n",
              "      <td>1.0</td>\n",
              "      <td>1.0</td>\n",
              "      <td>0.0</td>\n",
              "      <td>0.0</td>\n",
              "      <td>0.0</td>\n",
              "    </tr>\n",
              "    <tr>\n",
              "      <th>84565</th>\n",
              "      <td>84565</td>\n",
              "      <td>02.06.2010</td>\n",
              "      <td>-37.823592</td>\n",
              "      <td>145.244889</td>\n",
              "      <td>House</td>\n",
              "      <td>670</td>\n",
              "      <td>3135</td>\n",
              "      <td>Heathmont</td>\n",
              "      <td>Maroondah (C) - Ringwood</td>\n",
              "      <td>House</td>\n",
              "      <td>2010</td>\n",
              "      <td>1</td>\n",
              "      <td>2</td>\n",
              "      <td>1</td>\n",
              "      <td>NaN</td>\n",
              "      <td>1.0</td>\n",
              "      <td>2.0</td>\n",
              "      <td>NaN</td>\n",
              "      <td>NaN</td>\n",
              "      <td>1.0</td>\n",
              "      <td>1.0</td>\n",
              "    </tr>\n",
              "    <tr>\n",
              "      <th>84566</th>\n",
              "      <td>84566</td>\n",
              "      <td>03.10.2011</td>\n",
              "      <td>-37.818219</td>\n",
              "      <td>145.242537</td>\n",
              "      <td>Unit</td>\n",
              "      <td>752</td>\n",
              "      <td>3135</td>\n",
              "      <td>Ringwood East</td>\n",
              "      <td>Maroondah (C) - Ringwood</td>\n",
              "      <td>Unit</td>\n",
              "      <td>2011</td>\n",
              "      <td>17</td>\n",
              "      <td>490</td>\n",
              "      <td>6</td>\n",
              "      <td>2.0</td>\n",
              "      <td>NaN</td>\n",
              "      <td>NaN</td>\n",
              "      <td>0.0</td>\n",
              "      <td>0.0</td>\n",
              "      <td>0.0</td>\n",
              "      <td>0.0</td>\n",
              "    </tr>\n",
              "    <tr>\n",
              "      <th>84567</th>\n",
              "      <td>84567</td>\n",
              "      <td>30.07.2011</td>\n",
              "      <td>-37.482672</td>\n",
              "      <td>144.599369</td>\n",
              "      <td>House</td>\n",
              "      <td>682</td>\n",
              "      <td>3437</td>\n",
              "      <td>Gisborne</td>\n",
              "      <td>Macedon Ranges (S) Bal</td>\n",
              "      <td>House</td>\n",
              "      <td>2011</td>\n",
              "      <td>14</td>\n",
              "      <td>425</td>\n",
              "      <td>5</td>\n",
              "      <td>3.0</td>\n",
              "      <td>2.0</td>\n",
              "      <td>NaN</td>\n",
              "      <td>NaN</td>\n",
              "      <td>0.0</td>\n",
              "      <td>0.0</td>\n",
              "      <td>0.0</td>\n",
              "    </tr>\n",
              "  </tbody>\n",
              "</table>\n",
              "<p>84568 rows × 21 columns</p>\n",
              "</div>"
            ],
            "text/plain": [
              "          Id        Date        Lat  ...  HasPool HasGarage  HasAirCond\n",
              "0          0  15.12.2010 -37.829457  ...      NaN       NaN         0.0\n",
              "1          1  30.06.2010 -37.901293  ...      0.0       0.0         NaN\n",
              "2          2  14.06.2011 -38.088126  ...      0.0       NaN         0.0\n",
              "3          3  12.05.2011 -37.885781  ...      0.0       1.0         0.0\n",
              "4          4  21.09.2010 -37.836286  ...      0.0       0.0         NaN\n",
              "...      ...         ...        ...  ...      ...       ...         ...\n",
              "84563  84563  29.12.2012 -37.811613  ...      NaN       0.0         0.0\n",
              "84564  84564  26.02.2011 -37.830895  ...      0.0       0.0         0.0\n",
              "84565  84565  02.06.2010 -37.823592  ...      NaN       1.0         1.0\n",
              "84566  84566  03.10.2011 -37.818219  ...      0.0       0.0         0.0\n",
              "84567  84567  30.07.2011 -37.482672  ...      0.0       0.0         0.0\n",
              "\n",
              "[84568 rows x 21 columns]"
            ]
          },
          "metadata": {
            "tags": []
          },
          "execution_count": 3
        }
      ]
    },
    {
      "cell_type": "code",
      "metadata": {
        "id": "w7ivAApEhHob"
      },
      "source": [
        "X_train['Day_of_month'] = X_train['Date']\n",
        "X_train['Month'] = X_train['Date']\n",
        "X_train['Year'] = X_train['Date']"
      ],
      "execution_count": 4,
      "outputs": []
    },
    {
      "cell_type": "code",
      "metadata": {
        "colab": {
          "base_uri": "https://localhost:8080/"
        },
        "id": "81ypQ8dsyHPu",
        "outputId": "8ab597b0-076a-4626-ddc7-6cbbbe807f23"
      },
      "source": [
        "X_train.columns"
      ],
      "execution_count": 5,
      "outputs": [
        {
          "output_type": "execute_result",
          "data": {
            "text/plain": [
              "Index(['Id', 'Date', 'Lat', 'long', 'PropertyTy', 'Area', 'postCode', 'City',\n",
              "       'Neighborhood ', 'PropertyTy.1', 'transYear', 'transMonth', 'transDays',\n",
              "       'transQtr', 'Rooms', 'Baths', 'Parking', 'HasFirepla', 'HasPool',\n",
              "       'HasGarage', 'HasAirCond', 'Day_of_month', 'Month', 'Year'],\n",
              "      dtype='object')"
            ]
          },
          "metadata": {
            "tags": []
          },
          "execution_count": 5
        }
      ]
    },
    {
      "cell_type": "code",
      "metadata": {
        "colab": {
          "base_uri": "https://localhost:8080/"
        },
        "id": "E-ntEAKqij5D",
        "outputId": "cfb2d050-93ff-40df-dd3d-53481c3d21e9"
      },
      "source": [
        "len(X_train['Date'])"
      ],
      "execution_count": 33,
      "outputs": [
        {
          "output_type": "execute_result",
          "data": {
            "text/plain": [
              "84568"
            ]
          },
          "metadata": {
            "tags": []
          },
          "execution_count": 33
        }
      ]
    },
    {
      "cell_type": "code",
      "metadata": {
        "colab": {
          "base_uri": "https://localhost:8080/"
        },
        "id": "QIU2rAxigp9L",
        "outputId": "e875c63d-c9b4-457e-895f-c315dad3f920"
      },
      "source": [
        "# print(X_train['Date'][0].split('.'))\n",
        "\n",
        "for i,_ in enumerate(X_train['Date']):\n",
        "  temp = X_train['Date'][i].split('.')\n",
        "  X_train['Day_of_month'][i] = int(temp[0])\n",
        "  X_train['Month'][i] = int(temp[1])\n",
        "  X_train['Year'][i] = int(temp[2])"
      ],
      "execution_count": 7,
      "outputs": [
        {
          "output_type": "stream",
          "text": [
            "/usr/local/lib/python3.7/dist-packages/ipykernel_launcher.py:5: SettingWithCopyWarning: \n",
            "A value is trying to be set on a copy of a slice from a DataFrame\n",
            "\n",
            "See the caveats in the documentation: https://pandas.pydata.org/pandas-docs/stable/user_guide/indexing.html#returning-a-view-versus-a-copy\n",
            "  \"\"\"\n",
            "/usr/local/lib/python3.7/dist-packages/ipykernel_launcher.py:6: SettingWithCopyWarning: \n",
            "A value is trying to be set on a copy of a slice from a DataFrame\n",
            "\n",
            "See the caveats in the documentation: https://pandas.pydata.org/pandas-docs/stable/user_guide/indexing.html#returning-a-view-versus-a-copy\n",
            "  \n",
            "/usr/local/lib/python3.7/dist-packages/ipykernel_launcher.py:7: SettingWithCopyWarning: \n",
            "A value is trying to be set on a copy of a slice from a DataFrame\n",
            "\n",
            "See the caveats in the documentation: https://pandas.pydata.org/pandas-docs/stable/user_guide/indexing.html#returning-a-view-versus-a-copy\n",
            "  import sys\n"
          ],
          "name": "stderr"
        }
      ]
    },
    {
      "cell_type": "code",
      "metadata": {
        "id": "Frt601Fiyn-L"
      },
      "source": [
        "X_train_ready['Day_of_month'] = pd.to_numeric(X_train_ready['Day_of_month'])\n",
        "X_train_ready['Month'] = pd.to_numeric(X_train_ready['Month'])\n",
        "X_train_ready['Year'] = pd.to_numeric(X_train_ready['Year'])"
      ],
      "execution_count": 37,
      "outputs": []
    },
    {
      "cell_type": "code",
      "metadata": {
        "id": "9jgoVjibrIER"
      },
      "source": [
        "enc = sklearn.preprocessing.LabelEncoder()\n",
        "enc.fit(X_train['City'])\n",
        "X_train['City_encoded'] = enc.transform(X_train['City'])"
      ],
      "execution_count": 8,
      "outputs": []
    },
    {
      "cell_type": "code",
      "metadata": {
        "id": "JW5RfWmcwDUK"
      },
      "source": [
        "enc1 = sklearn.preprocessing.LabelEncoder()\n",
        "enc1.fit(X_train['PropertyTy'])\n",
        "X_train['PropertyTy_encoded'] = enc1.transform(X_train['PropertyTy'])"
      ],
      "execution_count": 9,
      "outputs": []
    },
    {
      "cell_type": "code",
      "metadata": {
        "id": "mGA8bmlwwWWm"
      },
      "source": [
        "X_train.drop('PropertyTy.1', axis=1, inplace=True)"
      ],
      "execution_count": 10,
      "outputs": []
    },
    {
      "cell_type": "code",
      "metadata": {
        "id": "al6on-DUyLNG"
      },
      "source": [
        "enc3 = sklearn.preprocessing.LabelEncoder()\n",
        "enc3.fit(X_train['Neighborhood '])\n",
        "X_train['Neighborhood_encoded'] = enc3.transform(X_train['Neighborhood '])"
      ],
      "execution_count": 11,
      "outputs": []
    },
    {
      "cell_type": "code",
      "metadata": {
        "colab": {
          "base_uri": "https://localhost:8080/",
          "height": 640
        },
        "id": "Q2h-IDdni7_i",
        "outputId": "bbffc0ab-f0bd-47d0-d133-aa7708e5eb90"
      },
      "source": [
        "X_train"
      ],
      "execution_count": 12,
      "outputs": [
        {
          "output_type": "execute_result",
          "data": {
            "text/html": [
              "<div>\n",
              "<style scoped>\n",
              "    .dataframe tbody tr th:only-of-type {\n",
              "        vertical-align: middle;\n",
              "    }\n",
              "\n",
              "    .dataframe tbody tr th {\n",
              "        vertical-align: top;\n",
              "    }\n",
              "\n",
              "    .dataframe thead th {\n",
              "        text-align: right;\n",
              "    }\n",
              "</style>\n",
              "<table border=\"1\" class=\"dataframe\">\n",
              "  <thead>\n",
              "    <tr style=\"text-align: right;\">\n",
              "      <th></th>\n",
              "      <th>Id</th>\n",
              "      <th>Date</th>\n",
              "      <th>Lat</th>\n",
              "      <th>long</th>\n",
              "      <th>PropertyTy</th>\n",
              "      <th>Area</th>\n",
              "      <th>postCode</th>\n",
              "      <th>City</th>\n",
              "      <th>Neighborhood</th>\n",
              "      <th>transYear</th>\n",
              "      <th>transMonth</th>\n",
              "      <th>transDays</th>\n",
              "      <th>transQtr</th>\n",
              "      <th>Rooms</th>\n",
              "      <th>Baths</th>\n",
              "      <th>Parking</th>\n",
              "      <th>HasFirepla</th>\n",
              "      <th>HasPool</th>\n",
              "      <th>HasGarage</th>\n",
              "      <th>HasAirCond</th>\n",
              "      <th>Day_of_month</th>\n",
              "      <th>Month</th>\n",
              "      <th>Year</th>\n",
              "      <th>City_encoded</th>\n",
              "      <th>PropertyTy_encoded</th>\n",
              "      <th>Neighborhood_encoded</th>\n",
              "    </tr>\n",
              "  </thead>\n",
              "  <tbody>\n",
              "    <tr>\n",
              "      <th>0</th>\n",
              "      <td>0</td>\n",
              "      <td>15.12.2010</td>\n",
              "      <td>-37.829457</td>\n",
              "      <td>145.130499</td>\n",
              "      <td>Unit</td>\n",
              "      <td>193</td>\n",
              "      <td>3128</td>\n",
              "      <td>Box Hill</td>\n",
              "      <td>Whitehorse (C) - Box Hill</td>\n",
              "      <td>2010</td>\n",
              "      <td>7</td>\n",
              "      <td>198</td>\n",
              "      <td>3</td>\n",
              "      <td>3.0</td>\n",
              "      <td>2.0</td>\n",
              "      <td>NaN</td>\n",
              "      <td>NaN</td>\n",
              "      <td>NaN</td>\n",
              "      <td>NaN</td>\n",
              "      <td>0.0</td>\n",
              "      <td>15</td>\n",
              "      <td>12</td>\n",
              "      <td>2010</td>\n",
              "      <td>43</td>\n",
              "      <td>1</td>\n",
              "      <td>64</td>\n",
              "    </tr>\n",
              "    <tr>\n",
              "      <th>1</th>\n",
              "      <td>1</td>\n",
              "      <td>30.06.2010</td>\n",
              "      <td>-37.901293</td>\n",
              "      <td>145.040301</td>\n",
              "      <td>Unit</td>\n",
              "      <td>1222</td>\n",
              "      <td>3204</td>\n",
              "      <td>Ormond</td>\n",
              "      <td>Glen Eira (C) - Caulfield</td>\n",
              "      <td>2010</td>\n",
              "      <td>1</td>\n",
              "      <td>30</td>\n",
              "      <td>1</td>\n",
              "      <td>2.0</td>\n",
              "      <td>NaN</td>\n",
              "      <td>1.0</td>\n",
              "      <td>NaN</td>\n",
              "      <td>0.0</td>\n",
              "      <td>0.0</td>\n",
              "      <td>NaN</td>\n",
              "      <td>30</td>\n",
              "      <td>6</td>\n",
              "      <td>2010</td>\n",
              "      <td>278</td>\n",
              "      <td>1</td>\n",
              "      <td>20</td>\n",
              "    </tr>\n",
              "    <tr>\n",
              "      <th>2</th>\n",
              "      <td>2</td>\n",
              "      <td>14.06.2011</td>\n",
              "      <td>-38.088126</td>\n",
              "      <td>145.488687</td>\n",
              "      <td>House</td>\n",
              "      <td>528</td>\n",
              "      <td>3810</td>\n",
              "      <td>Pakenham</td>\n",
              "      <td>Cardinia (S) - Pakenham</td>\n",
              "      <td>2011</td>\n",
              "      <td>13</td>\n",
              "      <td>379</td>\n",
              "      <td>5</td>\n",
              "      <td>4.0</td>\n",
              "      <td>2.0</td>\n",
              "      <td>2.0</td>\n",
              "      <td>0.0</td>\n",
              "      <td>0.0</td>\n",
              "      <td>NaN</td>\n",
              "      <td>0.0</td>\n",
              "      <td>14</td>\n",
              "      <td>6</td>\n",
              "      <td>2011</td>\n",
              "      <td>279</td>\n",
              "      <td>0</td>\n",
              "      <td>11</td>\n",
              "    </tr>\n",
              "    <tr>\n",
              "      <th>3</th>\n",
              "      <td>3</td>\n",
              "      <td>12.05.2011</td>\n",
              "      <td>-37.885781</td>\n",
              "      <td>144.776041</td>\n",
              "      <td>House</td>\n",
              "      <td>557</td>\n",
              "      <td>3028</td>\n",
              "      <td>Altona Meadows</td>\n",
              "      <td>Hobsons Bay (C) - Altona</td>\n",
              "      <td>2011</td>\n",
              "      <td>12</td>\n",
              "      <td>346</td>\n",
              "      <td>4</td>\n",
              "      <td>NaN</td>\n",
              "      <td>3.0</td>\n",
              "      <td>4.0</td>\n",
              "      <td>NaN</td>\n",
              "      <td>0.0</td>\n",
              "      <td>1.0</td>\n",
              "      <td>0.0</td>\n",
              "      <td>12</td>\n",
              "      <td>5</td>\n",
              "      <td>2011</td>\n",
              "      <td>8</td>\n",
              "      <td>0</td>\n",
              "      <td>24</td>\n",
              "    </tr>\n",
              "    <tr>\n",
              "      <th>4</th>\n",
              "      <td>4</td>\n",
              "      <td>21.09.2010</td>\n",
              "      <td>-37.836286</td>\n",
              "      <td>144.943116</td>\n",
              "      <td>House</td>\n",
              "      <td>111</td>\n",
              "      <td>3207</td>\n",
              "      <td>Port Melbourne</td>\n",
              "      <td>Port Phillip (C) - West</td>\n",
              "      <td>2010</td>\n",
              "      <td>4</td>\n",
              "      <td>113</td>\n",
              "      <td>2</td>\n",
              "      <td>NaN</td>\n",
              "      <td>1.0</td>\n",
              "      <td>NaN</td>\n",
              "      <td>0.0</td>\n",
              "      <td>0.0</td>\n",
              "      <td>0.0</td>\n",
              "      <td>NaN</td>\n",
              "      <td>21</td>\n",
              "      <td>9</td>\n",
              "      <td>2010</td>\n",
              "      <td>289</td>\n",
              "      <td>0</td>\n",
              "      <td>61</td>\n",
              "    </tr>\n",
              "    <tr>\n",
              "      <th>...</th>\n",
              "      <td>...</td>\n",
              "      <td>...</td>\n",
              "      <td>...</td>\n",
              "      <td>...</td>\n",
              "      <td>...</td>\n",
              "      <td>...</td>\n",
              "      <td>...</td>\n",
              "      <td>...</td>\n",
              "      <td>...</td>\n",
              "      <td>...</td>\n",
              "      <td>...</td>\n",
              "      <td>...</td>\n",
              "      <td>...</td>\n",
              "      <td>...</td>\n",
              "      <td>...</td>\n",
              "      <td>...</td>\n",
              "      <td>...</td>\n",
              "      <td>...</td>\n",
              "      <td>...</td>\n",
              "      <td>...</td>\n",
              "      <td>...</td>\n",
              "      <td>...</td>\n",
              "      <td>...</td>\n",
              "      <td>...</td>\n",
              "      <td>...</td>\n",
              "      <td>...</td>\n",
              "    </tr>\n",
              "    <tr>\n",
              "      <th>84563</th>\n",
              "      <td>84563</td>\n",
              "      <td>29.12.2012</td>\n",
              "      <td>-37.811613</td>\n",
              "      <td>145.123794</td>\n",
              "      <td>Unit</td>\n",
              "      <td>138</td>\n",
              "      <td>3129</td>\n",
              "      <td>Box Hill North</td>\n",
              "      <td>Whitehorse (C) - Box Hill</td>\n",
              "      <td>2012</td>\n",
              "      <td>31</td>\n",
              "      <td>943</td>\n",
              "      <td>11</td>\n",
              "      <td>NaN</td>\n",
              "      <td>NaN</td>\n",
              "      <td>NaN</td>\n",
              "      <td>0.0</td>\n",
              "      <td>NaN</td>\n",
              "      <td>0.0</td>\n",
              "      <td>0.0</td>\n",
              "      <td>29</td>\n",
              "      <td>12</td>\n",
              "      <td>2012</td>\n",
              "      <td>44</td>\n",
              "      <td>1</td>\n",
              "      <td>64</td>\n",
              "    </tr>\n",
              "    <tr>\n",
              "      <th>84564</th>\n",
              "      <td>84564</td>\n",
              "      <td>26.02.2011</td>\n",
              "      <td>-37.830895</td>\n",
              "      <td>145.044432</td>\n",
              "      <td>House</td>\n",
              "      <td>249</td>\n",
              "      <td>3123</td>\n",
              "      <td>Hawthorn East</td>\n",
              "      <td>Boroondara (C) - Hawthorn</td>\n",
              "      <td>2011</td>\n",
              "      <td>9</td>\n",
              "      <td>271</td>\n",
              "      <td>3</td>\n",
              "      <td>3.0</td>\n",
              "      <td>1.0</td>\n",
              "      <td>1.0</td>\n",
              "      <td>1.0</td>\n",
              "      <td>0.0</td>\n",
              "      <td>0.0</td>\n",
              "      <td>0.0</td>\n",
              "      <td>26</td>\n",
              "      <td>2</td>\n",
              "      <td>2011</td>\n",
              "      <td>175</td>\n",
              "      <td>0</td>\n",
              "      <td>6</td>\n",
              "    </tr>\n",
              "    <tr>\n",
              "      <th>84565</th>\n",
              "      <td>84565</td>\n",
              "      <td>02.06.2010</td>\n",
              "      <td>-37.823592</td>\n",
              "      <td>145.244889</td>\n",
              "      <td>House</td>\n",
              "      <td>670</td>\n",
              "      <td>3135</td>\n",
              "      <td>Heathmont</td>\n",
              "      <td>Maroondah (C) - Ringwood</td>\n",
              "      <td>2010</td>\n",
              "      <td>1</td>\n",
              "      <td>2</td>\n",
              "      <td>1</td>\n",
              "      <td>NaN</td>\n",
              "      <td>1.0</td>\n",
              "      <td>2.0</td>\n",
              "      <td>NaN</td>\n",
              "      <td>NaN</td>\n",
              "      <td>1.0</td>\n",
              "      <td>1.0</td>\n",
              "      <td>2</td>\n",
              "      <td>6</td>\n",
              "      <td>2010</td>\n",
              "      <td>177</td>\n",
              "      <td>0</td>\n",
              "      <td>40</td>\n",
              "    </tr>\n",
              "    <tr>\n",
              "      <th>84566</th>\n",
              "      <td>84566</td>\n",
              "      <td>03.10.2011</td>\n",
              "      <td>-37.818219</td>\n",
              "      <td>145.242537</td>\n",
              "      <td>Unit</td>\n",
              "      <td>752</td>\n",
              "      <td>3135</td>\n",
              "      <td>Ringwood East</td>\n",
              "      <td>Maroondah (C) - Ringwood</td>\n",
              "      <td>2011</td>\n",
              "      <td>17</td>\n",
              "      <td>490</td>\n",
              "      <td>6</td>\n",
              "      <td>2.0</td>\n",
              "      <td>NaN</td>\n",
              "      <td>NaN</td>\n",
              "      <td>0.0</td>\n",
              "      <td>0.0</td>\n",
              "      <td>0.0</td>\n",
              "      <td>0.0</td>\n",
              "      <td>3</td>\n",
              "      <td>10</td>\n",
              "      <td>2011</td>\n",
              "      <td>298</td>\n",
              "      <td>1</td>\n",
              "      <td>40</td>\n",
              "    </tr>\n",
              "    <tr>\n",
              "      <th>84567</th>\n",
              "      <td>84567</td>\n",
              "      <td>30.07.2011</td>\n",
              "      <td>-37.482672</td>\n",
              "      <td>144.599369</td>\n",
              "      <td>House</td>\n",
              "      <td>682</td>\n",
              "      <td>3437</td>\n",
              "      <td>Gisborne</td>\n",
              "      <td>Macedon Ranges (S) Bal</td>\n",
              "      <td>2011</td>\n",
              "      <td>14</td>\n",
              "      <td>425</td>\n",
              "      <td>5</td>\n",
              "      <td>3.0</td>\n",
              "      <td>2.0</td>\n",
              "      <td>NaN</td>\n",
              "      <td>NaN</td>\n",
              "      <td>0.0</td>\n",
              "      <td>0.0</td>\n",
              "      <td>0.0</td>\n",
              "      <td>30</td>\n",
              "      <td>7</td>\n",
              "      <td>2011</td>\n",
              "      <td>155</td>\n",
              "      <td>0</td>\n",
              "      <td>35</td>\n",
              "    </tr>\n",
              "  </tbody>\n",
              "</table>\n",
              "<p>84568 rows × 26 columns</p>\n",
              "</div>"
            ],
            "text/plain": [
              "          Id        Date  ...  PropertyTy_encoded  Neighborhood_encoded\n",
              "0          0  15.12.2010  ...                   1                    64\n",
              "1          1  30.06.2010  ...                   1                    20\n",
              "2          2  14.06.2011  ...                   0                    11\n",
              "3          3  12.05.2011  ...                   0                    24\n",
              "4          4  21.09.2010  ...                   0                    61\n",
              "...      ...         ...  ...                 ...                   ...\n",
              "84563  84563  29.12.2012  ...                   1                    64\n",
              "84564  84564  26.02.2011  ...                   0                     6\n",
              "84565  84565  02.06.2010  ...                   0                    40\n",
              "84566  84566  03.10.2011  ...                   1                    40\n",
              "84567  84567  30.07.2011  ...                   0                    35\n",
              "\n",
              "[84568 rows x 26 columns]"
            ]
          },
          "metadata": {
            "tags": []
          },
          "execution_count": 12
        }
      ]
    },
    {
      "cell_type": "code",
      "metadata": {
        "colab": {
          "base_uri": "https://localhost:8080/",
          "height": 402
        },
        "id": "w8LX6E0NgEIb",
        "outputId": "f120f661-079c-4f5f-fa8f-4ba04d171c4b"
      },
      "source": [
        "y_train = pd.read_csv('y_train.csv')\n",
        "y_train.drop('Id', axis=1, inplace=True)\n",
        "y_train"
      ],
      "execution_count": 13,
      "outputs": [
        {
          "output_type": "execute_result",
          "data": {
            "text/html": [
              "<div>\n",
              "<style scoped>\n",
              "    .dataframe tbody tr th:only-of-type {\n",
              "        vertical-align: middle;\n",
              "    }\n",
              "\n",
              "    .dataframe tbody tr th {\n",
              "        vertical-align: top;\n",
              "    }\n",
              "\n",
              "    .dataframe thead th {\n",
              "        text-align: right;\n",
              "    }\n",
              "</style>\n",
              "<table border=\"1\" class=\"dataframe\">\n",
              "  <thead>\n",
              "    <tr style=\"text-align: right;\">\n",
              "      <th></th>\n",
              "      <th>Price</th>\n",
              "    </tr>\n",
              "  </thead>\n",
              "  <tbody>\n",
              "    <tr>\n",
              "      <th>0</th>\n",
              "      <td>500000</td>\n",
              "    </tr>\n",
              "    <tr>\n",
              "      <th>1</th>\n",
              "      <td>540000</td>\n",
              "    </tr>\n",
              "    <tr>\n",
              "      <th>2</th>\n",
              "      <td>365000</td>\n",
              "    </tr>\n",
              "    <tr>\n",
              "      <th>3</th>\n",
              "      <td>608000</td>\n",
              "    </tr>\n",
              "    <tr>\n",
              "      <th>4</th>\n",
              "      <td>787000</td>\n",
              "    </tr>\n",
              "    <tr>\n",
              "      <th>...</th>\n",
              "      <td>...</td>\n",
              "    </tr>\n",
              "    <tr>\n",
              "      <th>84563</th>\n",
              "      <td>430000</td>\n",
              "    </tr>\n",
              "    <tr>\n",
              "      <th>84564</th>\n",
              "      <td>826000</td>\n",
              "    </tr>\n",
              "    <tr>\n",
              "      <th>84565</th>\n",
              "      <td>505000</td>\n",
              "    </tr>\n",
              "    <tr>\n",
              "      <th>84566</th>\n",
              "      <td>410000</td>\n",
              "    </tr>\n",
              "    <tr>\n",
              "      <th>84567</th>\n",
              "      <td>420000</td>\n",
              "    </tr>\n",
              "  </tbody>\n",
              "</table>\n",
              "<p>84568 rows × 1 columns</p>\n",
              "</div>"
            ],
            "text/plain": [
              "        Price\n",
              "0      500000\n",
              "1      540000\n",
              "2      365000\n",
              "3      608000\n",
              "4      787000\n",
              "...       ...\n",
              "84563  430000\n",
              "84564  826000\n",
              "84565  505000\n",
              "84566  410000\n",
              "84567  420000\n",
              "\n",
              "[84568 rows x 1 columns]"
            ]
          },
          "metadata": {
            "tags": []
          },
          "execution_count": 13
        }
      ]
    },
    {
      "cell_type": "code",
      "metadata": {
        "id": "HbiydUdexOY3"
      },
      "source": [
        "X_train_ready = X_train.copy()"
      ],
      "execution_count": 14,
      "outputs": []
    },
    {
      "cell_type": "code",
      "metadata": {
        "id": "x84fG3e-xTUm"
      },
      "source": [
        "X_train_ready.drop(['Id','Date', 'PropertyTy', 'City', 'Neighborhood '], axis=1, inplace=True)"
      ],
      "execution_count": 15,
      "outputs": []
    },
    {
      "cell_type": "code",
      "metadata": {
        "id": "VLyNdVpR9AH7"
      },
      "source": [
        "X_train_ready['Weekday'] = X_train_ready['transDays'].apply(lambda x: x % 7)"
      ],
      "execution_count": 16,
      "outputs": []
    },
    {
      "cell_type": "code",
      "metadata": {
        "id": "_kEM0YDC9iLy"
      },
      "source": [
        "X_train_ready['Quarter'] = X_train_ready['transQtr'].apply(lambda x: (x + 1) % 4) ## season"
      ],
      "execution_count": 17,
      "outputs": []
    },
    {
      "cell_type": "code",
      "metadata": {
        "colab": {
          "base_uri": "https://localhost:8080/",
          "height": 422
        },
        "id": "DAdfKbjE9nHk",
        "outputId": "f7f0ea85-78fe-4e74-ea39-ca94af885f2f"
      },
      "source": [
        "X_train_ready"
      ],
      "execution_count": 18,
      "outputs": [
        {
          "output_type": "execute_result",
          "data": {
            "text/html": [
              "<div>\n",
              "<style scoped>\n",
              "    .dataframe tbody tr th:only-of-type {\n",
              "        vertical-align: middle;\n",
              "    }\n",
              "\n",
              "    .dataframe tbody tr th {\n",
              "        vertical-align: top;\n",
              "    }\n",
              "\n",
              "    .dataframe thead th {\n",
              "        text-align: right;\n",
              "    }\n",
              "</style>\n",
              "<table border=\"1\" class=\"dataframe\">\n",
              "  <thead>\n",
              "    <tr style=\"text-align: right;\">\n",
              "      <th></th>\n",
              "      <th>Lat</th>\n",
              "      <th>long</th>\n",
              "      <th>Area</th>\n",
              "      <th>postCode</th>\n",
              "      <th>transYear</th>\n",
              "      <th>transMonth</th>\n",
              "      <th>transDays</th>\n",
              "      <th>transQtr</th>\n",
              "      <th>Rooms</th>\n",
              "      <th>Baths</th>\n",
              "      <th>Parking</th>\n",
              "      <th>HasFirepla</th>\n",
              "      <th>HasPool</th>\n",
              "      <th>HasGarage</th>\n",
              "      <th>HasAirCond</th>\n",
              "      <th>Day_of_month</th>\n",
              "      <th>Month</th>\n",
              "      <th>Year</th>\n",
              "      <th>City_encoded</th>\n",
              "      <th>PropertyTy_encoded</th>\n",
              "      <th>Neighborhood_encoded</th>\n",
              "      <th>Weekday</th>\n",
              "      <th>Quarter</th>\n",
              "    </tr>\n",
              "  </thead>\n",
              "  <tbody>\n",
              "    <tr>\n",
              "      <th>0</th>\n",
              "      <td>-37.829457</td>\n",
              "      <td>145.130499</td>\n",
              "      <td>193</td>\n",
              "      <td>3128</td>\n",
              "      <td>2010</td>\n",
              "      <td>7</td>\n",
              "      <td>198</td>\n",
              "      <td>3</td>\n",
              "      <td>3.0</td>\n",
              "      <td>2.0</td>\n",
              "      <td>NaN</td>\n",
              "      <td>NaN</td>\n",
              "      <td>NaN</td>\n",
              "      <td>NaN</td>\n",
              "      <td>0.0</td>\n",
              "      <td>15</td>\n",
              "      <td>12</td>\n",
              "      <td>2010</td>\n",
              "      <td>43</td>\n",
              "      <td>1</td>\n",
              "      <td>64</td>\n",
              "      <td>2</td>\n",
              "      <td>0</td>\n",
              "    </tr>\n",
              "    <tr>\n",
              "      <th>1</th>\n",
              "      <td>-37.901293</td>\n",
              "      <td>145.040301</td>\n",
              "      <td>1222</td>\n",
              "      <td>3204</td>\n",
              "      <td>2010</td>\n",
              "      <td>1</td>\n",
              "      <td>30</td>\n",
              "      <td>1</td>\n",
              "      <td>2.0</td>\n",
              "      <td>NaN</td>\n",
              "      <td>1.0</td>\n",
              "      <td>NaN</td>\n",
              "      <td>0.0</td>\n",
              "      <td>0.0</td>\n",
              "      <td>NaN</td>\n",
              "      <td>30</td>\n",
              "      <td>6</td>\n",
              "      <td>2010</td>\n",
              "      <td>278</td>\n",
              "      <td>1</td>\n",
              "      <td>20</td>\n",
              "      <td>2</td>\n",
              "      <td>2</td>\n",
              "    </tr>\n",
              "    <tr>\n",
              "      <th>2</th>\n",
              "      <td>-38.088126</td>\n",
              "      <td>145.488687</td>\n",
              "      <td>528</td>\n",
              "      <td>3810</td>\n",
              "      <td>2011</td>\n",
              "      <td>13</td>\n",
              "      <td>379</td>\n",
              "      <td>5</td>\n",
              "      <td>4.0</td>\n",
              "      <td>2.0</td>\n",
              "      <td>2.0</td>\n",
              "      <td>0.0</td>\n",
              "      <td>0.0</td>\n",
              "      <td>NaN</td>\n",
              "      <td>0.0</td>\n",
              "      <td>14</td>\n",
              "      <td>6</td>\n",
              "      <td>2011</td>\n",
              "      <td>279</td>\n",
              "      <td>0</td>\n",
              "      <td>11</td>\n",
              "      <td>1</td>\n",
              "      <td>2</td>\n",
              "    </tr>\n",
              "    <tr>\n",
              "      <th>3</th>\n",
              "      <td>-37.885781</td>\n",
              "      <td>144.776041</td>\n",
              "      <td>557</td>\n",
              "      <td>3028</td>\n",
              "      <td>2011</td>\n",
              "      <td>12</td>\n",
              "      <td>346</td>\n",
              "      <td>4</td>\n",
              "      <td>NaN</td>\n",
              "      <td>3.0</td>\n",
              "      <td>4.0</td>\n",
              "      <td>NaN</td>\n",
              "      <td>0.0</td>\n",
              "      <td>1.0</td>\n",
              "      <td>0.0</td>\n",
              "      <td>12</td>\n",
              "      <td>5</td>\n",
              "      <td>2011</td>\n",
              "      <td>8</td>\n",
              "      <td>0</td>\n",
              "      <td>24</td>\n",
              "      <td>3</td>\n",
              "      <td>1</td>\n",
              "    </tr>\n",
              "    <tr>\n",
              "      <th>4</th>\n",
              "      <td>-37.836286</td>\n",
              "      <td>144.943116</td>\n",
              "      <td>111</td>\n",
              "      <td>3207</td>\n",
              "      <td>2010</td>\n",
              "      <td>4</td>\n",
              "      <td>113</td>\n",
              "      <td>2</td>\n",
              "      <td>NaN</td>\n",
              "      <td>1.0</td>\n",
              "      <td>NaN</td>\n",
              "      <td>0.0</td>\n",
              "      <td>0.0</td>\n",
              "      <td>0.0</td>\n",
              "      <td>NaN</td>\n",
              "      <td>21</td>\n",
              "      <td>9</td>\n",
              "      <td>2010</td>\n",
              "      <td>289</td>\n",
              "      <td>0</td>\n",
              "      <td>61</td>\n",
              "      <td>1</td>\n",
              "      <td>3</td>\n",
              "    </tr>\n",
              "    <tr>\n",
              "      <th>...</th>\n",
              "      <td>...</td>\n",
              "      <td>...</td>\n",
              "      <td>...</td>\n",
              "      <td>...</td>\n",
              "      <td>...</td>\n",
              "      <td>...</td>\n",
              "      <td>...</td>\n",
              "      <td>...</td>\n",
              "      <td>...</td>\n",
              "      <td>...</td>\n",
              "      <td>...</td>\n",
              "      <td>...</td>\n",
              "      <td>...</td>\n",
              "      <td>...</td>\n",
              "      <td>...</td>\n",
              "      <td>...</td>\n",
              "      <td>...</td>\n",
              "      <td>...</td>\n",
              "      <td>...</td>\n",
              "      <td>...</td>\n",
              "      <td>...</td>\n",
              "      <td>...</td>\n",
              "      <td>...</td>\n",
              "    </tr>\n",
              "    <tr>\n",
              "      <th>84563</th>\n",
              "      <td>-37.811613</td>\n",
              "      <td>145.123794</td>\n",
              "      <td>138</td>\n",
              "      <td>3129</td>\n",
              "      <td>2012</td>\n",
              "      <td>31</td>\n",
              "      <td>943</td>\n",
              "      <td>11</td>\n",
              "      <td>NaN</td>\n",
              "      <td>NaN</td>\n",
              "      <td>NaN</td>\n",
              "      <td>0.0</td>\n",
              "      <td>NaN</td>\n",
              "      <td>0.0</td>\n",
              "      <td>0.0</td>\n",
              "      <td>29</td>\n",
              "      <td>12</td>\n",
              "      <td>2012</td>\n",
              "      <td>44</td>\n",
              "      <td>1</td>\n",
              "      <td>64</td>\n",
              "      <td>5</td>\n",
              "      <td>0</td>\n",
              "    </tr>\n",
              "    <tr>\n",
              "      <th>84564</th>\n",
              "      <td>-37.830895</td>\n",
              "      <td>145.044432</td>\n",
              "      <td>249</td>\n",
              "      <td>3123</td>\n",
              "      <td>2011</td>\n",
              "      <td>9</td>\n",
              "      <td>271</td>\n",
              "      <td>3</td>\n",
              "      <td>3.0</td>\n",
              "      <td>1.0</td>\n",
              "      <td>1.0</td>\n",
              "      <td>1.0</td>\n",
              "      <td>0.0</td>\n",
              "      <td>0.0</td>\n",
              "      <td>0.0</td>\n",
              "      <td>26</td>\n",
              "      <td>2</td>\n",
              "      <td>2011</td>\n",
              "      <td>175</td>\n",
              "      <td>0</td>\n",
              "      <td>6</td>\n",
              "      <td>5</td>\n",
              "      <td>0</td>\n",
              "    </tr>\n",
              "    <tr>\n",
              "      <th>84565</th>\n",
              "      <td>-37.823592</td>\n",
              "      <td>145.244889</td>\n",
              "      <td>670</td>\n",
              "      <td>3135</td>\n",
              "      <td>2010</td>\n",
              "      <td>1</td>\n",
              "      <td>2</td>\n",
              "      <td>1</td>\n",
              "      <td>NaN</td>\n",
              "      <td>1.0</td>\n",
              "      <td>2.0</td>\n",
              "      <td>NaN</td>\n",
              "      <td>NaN</td>\n",
              "      <td>1.0</td>\n",
              "      <td>1.0</td>\n",
              "      <td>2</td>\n",
              "      <td>6</td>\n",
              "      <td>2010</td>\n",
              "      <td>177</td>\n",
              "      <td>0</td>\n",
              "      <td>40</td>\n",
              "      <td>2</td>\n",
              "      <td>2</td>\n",
              "    </tr>\n",
              "    <tr>\n",
              "      <th>84566</th>\n",
              "      <td>-37.818219</td>\n",
              "      <td>145.242537</td>\n",
              "      <td>752</td>\n",
              "      <td>3135</td>\n",
              "      <td>2011</td>\n",
              "      <td>17</td>\n",
              "      <td>490</td>\n",
              "      <td>6</td>\n",
              "      <td>2.0</td>\n",
              "      <td>NaN</td>\n",
              "      <td>NaN</td>\n",
              "      <td>0.0</td>\n",
              "      <td>0.0</td>\n",
              "      <td>0.0</td>\n",
              "      <td>0.0</td>\n",
              "      <td>3</td>\n",
              "      <td>10</td>\n",
              "      <td>2011</td>\n",
              "      <td>298</td>\n",
              "      <td>1</td>\n",
              "      <td>40</td>\n",
              "      <td>0</td>\n",
              "      <td>3</td>\n",
              "    </tr>\n",
              "    <tr>\n",
              "      <th>84567</th>\n",
              "      <td>-37.482672</td>\n",
              "      <td>144.599369</td>\n",
              "      <td>682</td>\n",
              "      <td>3437</td>\n",
              "      <td>2011</td>\n",
              "      <td>14</td>\n",
              "      <td>425</td>\n",
              "      <td>5</td>\n",
              "      <td>3.0</td>\n",
              "      <td>2.0</td>\n",
              "      <td>NaN</td>\n",
              "      <td>NaN</td>\n",
              "      <td>0.0</td>\n",
              "      <td>0.0</td>\n",
              "      <td>0.0</td>\n",
              "      <td>30</td>\n",
              "      <td>7</td>\n",
              "      <td>2011</td>\n",
              "      <td>155</td>\n",
              "      <td>0</td>\n",
              "      <td>35</td>\n",
              "      <td>5</td>\n",
              "      <td>2</td>\n",
              "    </tr>\n",
              "  </tbody>\n",
              "</table>\n",
              "<p>84568 rows × 23 columns</p>\n",
              "</div>"
            ],
            "text/plain": [
              "             Lat        long  Area  ...  Neighborhood_encoded  Weekday  Quarter\n",
              "0     -37.829457  145.130499   193  ...                    64        2        0\n",
              "1     -37.901293  145.040301  1222  ...                    20        2        2\n",
              "2     -38.088126  145.488687   528  ...                    11        1        2\n",
              "3     -37.885781  144.776041   557  ...                    24        3        1\n",
              "4     -37.836286  144.943116   111  ...                    61        1        3\n",
              "...          ...         ...   ...  ...                   ...      ...      ...\n",
              "84563 -37.811613  145.123794   138  ...                    64        5        0\n",
              "84564 -37.830895  145.044432   249  ...                     6        5        0\n",
              "84565 -37.823592  145.244889   670  ...                    40        2        2\n",
              "84566 -37.818219  145.242537   752  ...                    40        0        3\n",
              "84567 -37.482672  144.599369   682  ...                    35        5        2\n",
              "\n",
              "[84568 rows x 23 columns]"
            ]
          },
          "metadata": {
            "tags": []
          },
          "execution_count": 18
        }
      ]
    },
    {
      "cell_type": "code",
      "metadata": {
        "id": "BZsv6UqhtGPI"
      },
      "source": [
        "for i,j in enumerate(X_train_ready['Day_of_month'].to_numpy()):\n",
        "  if type(j) is not int:\n",
        "    print(i)\n",
        "for i,j in enumerate(X_train_ready['Month'].to_numpy()):\n",
        "  if type(j) is not int:\n",
        "    print(i)\n",
        "for i,j in enumerate(X_train_ready['Year'].to_numpy()):\n",
        "  if type(j) is not int:\n",
        "    print(i)"
      ],
      "execution_count": 29,
      "outputs": []
    },
    {
      "cell_type": "code",
      "metadata": {
        "colab": {
          "base_uri": "https://localhost:8080/"
        },
        "id": "JMZw16iXehDK",
        "outputId": "a6a0ace6-7f19-4f89-fb63-560d9e2b49a3"
      },
      "source": [
        "leave_out = 10000\n",
        "xgb_model = xgb.XGBRegressor(random_state=42, max_depth=10, objective='reg:squarederror')\n",
        "xgb_model.fit(X_train_ready[:-leave_out], y_train[:-leave_out])"
      ],
      "execution_count": 38,
      "outputs": [
        {
          "output_type": "execute_result",
          "data": {
            "text/plain": [
              "XGBRegressor(base_score=0.5, booster='gbtree', colsample_bylevel=1,\n",
              "             colsample_bynode=1, colsample_bytree=1, gamma=0,\n",
              "             importance_type='gain', learning_rate=0.1, max_delta_step=0,\n",
              "             max_depth=10, min_child_weight=1, missing=None, n_estimators=100,\n",
              "             n_jobs=1, nthread=None, objective='reg:squarederror',\n",
              "             random_state=42, reg_alpha=0, reg_lambda=1, scale_pos_weight=1,\n",
              "             seed=None, silent=None, subsample=1, verbosity=1)"
            ]
          },
          "metadata": {
            "tags": []
          },
          "execution_count": 38
        }
      ]
    },
    {
      "cell_type": "code",
      "metadata": {
        "colab": {
          "base_uri": "https://localhost:8080/"
        },
        "id": "lwmtCRo82k1V",
        "outputId": "c3abc207-6c09-4fe0-90b7-7d26edccc2d5"
      },
      "source": [
        "print(sklearn.metrics.mean_squared_error(xgb_model.predict(X_train_ready[:-leave_out]), y_train[:-leave_out], squared=False))\n",
        "print(sklearn.metrics.mean_squared_error(xgb_model.predict(X_train_ready[leave_out:]), y_train[leave_out:], squared=False))"
      ],
      "execution_count": 39,
      "outputs": [
        {
          "output_type": "stream",
          "text": [
            "105133.48460387246\n",
            "115781.4189729369\n"
          ],
          "name": "stdout"
        }
      ]
    },
    {
      "cell_type": "code",
      "metadata": {
        "id": "UHuYTmjSzwNh"
      },
      "source": [
        "import lightgbm as lgb\n",
        "params = {'num_leaves': 100}\n",
        "lgb_data = lgb.Dataset(X_train_ready, label=y_train)\n",
        "bst = lgb.train(params, lgb_data, 100)\n",
        "# lgb.cv(param, train_data, num_round, nfold=5)"
      ],
      "execution_count": 70,
      "outputs": []
    },
    {
      "cell_type": "code",
      "metadata": {
        "colab": {
          "base_uri": "https://localhost:8080/"
        },
        "id": "fncIKbPDI_z9",
        "outputId": "498f548b-4f7e-4695-aa7a-408e695db75e"
      },
      "source": [
        "print(sklearn.metrics.mean_squared_error(bst.predict(X_train_maybe[:-leave_out]), y_train[:-leave_out], squared=False))\n",
        "print(sklearn.metrics.mean_squared_error(bst.predict(X_train_maybe[leave_out:]), y_train[leave_out:], squared=False))"
      ],
      "execution_count": 71,
      "outputs": [
        {
          "output_type": "stream",
          "text": [
            "190694.14156901374\n",
            "189552.51834678216\n"
          ],
          "name": "stdout"
        }
      ]
    },
    {
      "cell_type": "markdown",
      "metadata": {
        "id": "3M0fjSDFzsr8"
      },
      "source": [
        "Without NaN"
      ]
    },
    {
      "cell_type": "code",
      "metadata": {
        "id": "BzKViAniMxTF"
      },
      "source": [
        "X_train_maybe = X_train_ready.copy()"
      ],
      "execution_count": 61,
      "outputs": []
    },
    {
      "cell_type": "code",
      "metadata": {
        "id": "GNLbNPzuR44W"
      },
      "source": [
        "X_train_maybe['HasPool'].fillna(0, inplace=True)\n",
        "X_train_maybe['HasGarage'].fillna(0, inplace=True)\n",
        "X_train_maybe['HasFirepla'].fillna(0, inplace=True)\n",
        "X_train_maybe['HasAirCond'].fillna(0, inplace=True)"
      ],
      "execution_count": 62,
      "outputs": []
    },
    {
      "cell_type": "code",
      "metadata": {
        "id": "tXLQvTruSsQc"
      },
      "source": [
        "X_train_maybe['Parking'].fillna(0, inplace=True)\n",
        "X_train_maybe['Baths'].fillna(0, inplace=True)\n",
        "X_train_maybe['Rooms'].fillna(0, inplace=True)"
      ],
      "execution_count": 63,
      "outputs": []
    },
    {
      "cell_type": "code",
      "metadata": {
        "colab": {
          "base_uri": "https://localhost:8080/",
          "height": 422
        },
        "id": "PPuv4WOXRwf0",
        "outputId": "4c80dd05-7485-438b-f364-a3bbfc629fc5"
      },
      "source": [
        "X_train_maybe"
      ],
      "execution_count": 72,
      "outputs": [
        {
          "output_type": "execute_result",
          "data": {
            "text/html": [
              "<div>\n",
              "<style scoped>\n",
              "    .dataframe tbody tr th:only-of-type {\n",
              "        vertical-align: middle;\n",
              "    }\n",
              "\n",
              "    .dataframe tbody tr th {\n",
              "        vertical-align: top;\n",
              "    }\n",
              "\n",
              "    .dataframe thead th {\n",
              "        text-align: right;\n",
              "    }\n",
              "</style>\n",
              "<table border=\"1\" class=\"dataframe\">\n",
              "  <thead>\n",
              "    <tr style=\"text-align: right;\">\n",
              "      <th></th>\n",
              "      <th>Lat</th>\n",
              "      <th>long</th>\n",
              "      <th>Area</th>\n",
              "      <th>postCode</th>\n",
              "      <th>transYear</th>\n",
              "      <th>transMonth</th>\n",
              "      <th>transDays</th>\n",
              "      <th>transQtr</th>\n",
              "      <th>Rooms</th>\n",
              "      <th>Baths</th>\n",
              "      <th>Parking</th>\n",
              "      <th>HasFirepla</th>\n",
              "      <th>HasPool</th>\n",
              "      <th>HasGarage</th>\n",
              "      <th>HasAirCond</th>\n",
              "      <th>Day_of_month</th>\n",
              "      <th>Month</th>\n",
              "      <th>Year</th>\n",
              "      <th>City_encoded</th>\n",
              "      <th>PropertyTy_encoded</th>\n",
              "      <th>Neighborhood_encoded</th>\n",
              "      <th>Weekday</th>\n",
              "      <th>Quarter</th>\n",
              "    </tr>\n",
              "  </thead>\n",
              "  <tbody>\n",
              "    <tr>\n",
              "      <th>0</th>\n",
              "      <td>-37.829457</td>\n",
              "      <td>145.130499</td>\n",
              "      <td>193</td>\n",
              "      <td>3128</td>\n",
              "      <td>2010</td>\n",
              "      <td>7</td>\n",
              "      <td>198</td>\n",
              "      <td>3</td>\n",
              "      <td>3.0</td>\n",
              "      <td>2.0</td>\n",
              "      <td>0.0</td>\n",
              "      <td>0.0</td>\n",
              "      <td>0.0</td>\n",
              "      <td>0.0</td>\n",
              "      <td>0.0</td>\n",
              "      <td>15</td>\n",
              "      <td>12</td>\n",
              "      <td>2010</td>\n",
              "      <td>43</td>\n",
              "      <td>1</td>\n",
              "      <td>64</td>\n",
              "      <td>2</td>\n",
              "      <td>0</td>\n",
              "    </tr>\n",
              "    <tr>\n",
              "      <th>1</th>\n",
              "      <td>-37.901293</td>\n",
              "      <td>145.040301</td>\n",
              "      <td>1222</td>\n",
              "      <td>3204</td>\n",
              "      <td>2010</td>\n",
              "      <td>1</td>\n",
              "      <td>30</td>\n",
              "      <td>1</td>\n",
              "      <td>2.0</td>\n",
              "      <td>0.0</td>\n",
              "      <td>1.0</td>\n",
              "      <td>0.0</td>\n",
              "      <td>0.0</td>\n",
              "      <td>0.0</td>\n",
              "      <td>0.0</td>\n",
              "      <td>30</td>\n",
              "      <td>6</td>\n",
              "      <td>2010</td>\n",
              "      <td>278</td>\n",
              "      <td>1</td>\n",
              "      <td>20</td>\n",
              "      <td>2</td>\n",
              "      <td>2</td>\n",
              "    </tr>\n",
              "    <tr>\n",
              "      <th>2</th>\n",
              "      <td>-38.088126</td>\n",
              "      <td>145.488687</td>\n",
              "      <td>528</td>\n",
              "      <td>3810</td>\n",
              "      <td>2011</td>\n",
              "      <td>13</td>\n",
              "      <td>379</td>\n",
              "      <td>5</td>\n",
              "      <td>4.0</td>\n",
              "      <td>2.0</td>\n",
              "      <td>2.0</td>\n",
              "      <td>0.0</td>\n",
              "      <td>0.0</td>\n",
              "      <td>0.0</td>\n",
              "      <td>0.0</td>\n",
              "      <td>14</td>\n",
              "      <td>6</td>\n",
              "      <td>2011</td>\n",
              "      <td>279</td>\n",
              "      <td>0</td>\n",
              "      <td>11</td>\n",
              "      <td>1</td>\n",
              "      <td>2</td>\n",
              "    </tr>\n",
              "    <tr>\n",
              "      <th>3</th>\n",
              "      <td>-37.885781</td>\n",
              "      <td>144.776041</td>\n",
              "      <td>557</td>\n",
              "      <td>3028</td>\n",
              "      <td>2011</td>\n",
              "      <td>12</td>\n",
              "      <td>346</td>\n",
              "      <td>4</td>\n",
              "      <td>0.0</td>\n",
              "      <td>3.0</td>\n",
              "      <td>4.0</td>\n",
              "      <td>0.0</td>\n",
              "      <td>0.0</td>\n",
              "      <td>1.0</td>\n",
              "      <td>0.0</td>\n",
              "      <td>12</td>\n",
              "      <td>5</td>\n",
              "      <td>2011</td>\n",
              "      <td>8</td>\n",
              "      <td>0</td>\n",
              "      <td>24</td>\n",
              "      <td>3</td>\n",
              "      <td>1</td>\n",
              "    </tr>\n",
              "    <tr>\n",
              "      <th>4</th>\n",
              "      <td>-37.836286</td>\n",
              "      <td>144.943116</td>\n",
              "      <td>111</td>\n",
              "      <td>3207</td>\n",
              "      <td>2010</td>\n",
              "      <td>4</td>\n",
              "      <td>113</td>\n",
              "      <td>2</td>\n",
              "      <td>0.0</td>\n",
              "      <td>1.0</td>\n",
              "      <td>0.0</td>\n",
              "      <td>0.0</td>\n",
              "      <td>0.0</td>\n",
              "      <td>0.0</td>\n",
              "      <td>0.0</td>\n",
              "      <td>21</td>\n",
              "      <td>9</td>\n",
              "      <td>2010</td>\n",
              "      <td>289</td>\n",
              "      <td>0</td>\n",
              "      <td>61</td>\n",
              "      <td>1</td>\n",
              "      <td>3</td>\n",
              "    </tr>\n",
              "    <tr>\n",
              "      <th>...</th>\n",
              "      <td>...</td>\n",
              "      <td>...</td>\n",
              "      <td>...</td>\n",
              "      <td>...</td>\n",
              "      <td>...</td>\n",
              "      <td>...</td>\n",
              "      <td>...</td>\n",
              "      <td>...</td>\n",
              "      <td>...</td>\n",
              "      <td>...</td>\n",
              "      <td>...</td>\n",
              "      <td>...</td>\n",
              "      <td>...</td>\n",
              "      <td>...</td>\n",
              "      <td>...</td>\n",
              "      <td>...</td>\n",
              "      <td>...</td>\n",
              "      <td>...</td>\n",
              "      <td>...</td>\n",
              "      <td>...</td>\n",
              "      <td>...</td>\n",
              "      <td>...</td>\n",
              "      <td>...</td>\n",
              "    </tr>\n",
              "    <tr>\n",
              "      <th>84563</th>\n",
              "      <td>-37.811613</td>\n",
              "      <td>145.123794</td>\n",
              "      <td>138</td>\n",
              "      <td>3129</td>\n",
              "      <td>2012</td>\n",
              "      <td>31</td>\n",
              "      <td>943</td>\n",
              "      <td>11</td>\n",
              "      <td>0.0</td>\n",
              "      <td>0.0</td>\n",
              "      <td>0.0</td>\n",
              "      <td>0.0</td>\n",
              "      <td>0.0</td>\n",
              "      <td>0.0</td>\n",
              "      <td>0.0</td>\n",
              "      <td>29</td>\n",
              "      <td>12</td>\n",
              "      <td>2012</td>\n",
              "      <td>44</td>\n",
              "      <td>1</td>\n",
              "      <td>64</td>\n",
              "      <td>5</td>\n",
              "      <td>0</td>\n",
              "    </tr>\n",
              "    <tr>\n",
              "      <th>84564</th>\n",
              "      <td>-37.830895</td>\n",
              "      <td>145.044432</td>\n",
              "      <td>249</td>\n",
              "      <td>3123</td>\n",
              "      <td>2011</td>\n",
              "      <td>9</td>\n",
              "      <td>271</td>\n",
              "      <td>3</td>\n",
              "      <td>3.0</td>\n",
              "      <td>1.0</td>\n",
              "      <td>1.0</td>\n",
              "      <td>1.0</td>\n",
              "      <td>0.0</td>\n",
              "      <td>0.0</td>\n",
              "      <td>0.0</td>\n",
              "      <td>26</td>\n",
              "      <td>2</td>\n",
              "      <td>2011</td>\n",
              "      <td>175</td>\n",
              "      <td>0</td>\n",
              "      <td>6</td>\n",
              "      <td>5</td>\n",
              "      <td>0</td>\n",
              "    </tr>\n",
              "    <tr>\n",
              "      <th>84565</th>\n",
              "      <td>-37.823592</td>\n",
              "      <td>145.244889</td>\n",
              "      <td>670</td>\n",
              "      <td>3135</td>\n",
              "      <td>2010</td>\n",
              "      <td>1</td>\n",
              "      <td>2</td>\n",
              "      <td>1</td>\n",
              "      <td>0.0</td>\n",
              "      <td>1.0</td>\n",
              "      <td>2.0</td>\n",
              "      <td>0.0</td>\n",
              "      <td>0.0</td>\n",
              "      <td>1.0</td>\n",
              "      <td>1.0</td>\n",
              "      <td>2</td>\n",
              "      <td>6</td>\n",
              "      <td>2010</td>\n",
              "      <td>177</td>\n",
              "      <td>0</td>\n",
              "      <td>40</td>\n",
              "      <td>2</td>\n",
              "      <td>2</td>\n",
              "    </tr>\n",
              "    <tr>\n",
              "      <th>84566</th>\n",
              "      <td>-37.818219</td>\n",
              "      <td>145.242537</td>\n",
              "      <td>752</td>\n",
              "      <td>3135</td>\n",
              "      <td>2011</td>\n",
              "      <td>17</td>\n",
              "      <td>490</td>\n",
              "      <td>6</td>\n",
              "      <td>2.0</td>\n",
              "      <td>0.0</td>\n",
              "      <td>0.0</td>\n",
              "      <td>0.0</td>\n",
              "      <td>0.0</td>\n",
              "      <td>0.0</td>\n",
              "      <td>0.0</td>\n",
              "      <td>3</td>\n",
              "      <td>10</td>\n",
              "      <td>2011</td>\n",
              "      <td>298</td>\n",
              "      <td>1</td>\n",
              "      <td>40</td>\n",
              "      <td>0</td>\n",
              "      <td>3</td>\n",
              "    </tr>\n",
              "    <tr>\n",
              "      <th>84567</th>\n",
              "      <td>-37.482672</td>\n",
              "      <td>144.599369</td>\n",
              "      <td>682</td>\n",
              "      <td>3437</td>\n",
              "      <td>2011</td>\n",
              "      <td>14</td>\n",
              "      <td>425</td>\n",
              "      <td>5</td>\n",
              "      <td>3.0</td>\n",
              "      <td>2.0</td>\n",
              "      <td>0.0</td>\n",
              "      <td>0.0</td>\n",
              "      <td>0.0</td>\n",
              "      <td>0.0</td>\n",
              "      <td>0.0</td>\n",
              "      <td>30</td>\n",
              "      <td>7</td>\n",
              "      <td>2011</td>\n",
              "      <td>155</td>\n",
              "      <td>0</td>\n",
              "      <td>35</td>\n",
              "      <td>5</td>\n",
              "      <td>2</td>\n",
              "    </tr>\n",
              "  </tbody>\n",
              "</table>\n",
              "<p>84568 rows × 23 columns</p>\n",
              "</div>"
            ],
            "text/plain": [
              "             Lat        long  Area  ...  Neighborhood_encoded  Weekday  Quarter\n",
              "0     -37.829457  145.130499   193  ...                    64        2        0\n",
              "1     -37.901293  145.040301  1222  ...                    20        2        2\n",
              "2     -38.088126  145.488687   528  ...                    11        1        2\n",
              "3     -37.885781  144.776041   557  ...                    24        3        1\n",
              "4     -37.836286  144.943116   111  ...                    61        1        3\n",
              "...          ...         ...   ...  ...                   ...      ...      ...\n",
              "84563 -37.811613  145.123794   138  ...                    64        5        0\n",
              "84564 -37.830895  145.044432   249  ...                     6        5        0\n",
              "84565 -37.823592  145.244889   670  ...                    40        2        2\n",
              "84566 -37.818219  145.242537   752  ...                    40        0        3\n",
              "84567 -37.482672  144.599369   682  ...                    35        5        2\n",
              "\n",
              "[84568 rows x 23 columns]"
            ]
          },
          "metadata": {
            "tags": []
          },
          "execution_count": 72
        }
      ]
    },
    {
      "cell_type": "code",
      "metadata": {
        "colab": {
          "base_uri": "https://localhost:8080/"
        },
        "id": "r6LDLbcjE3CB",
        "outputId": "58622d67-3a27-425b-d5e9-94831e4e2394"
      },
      "source": [
        "from sklearn.ensemble import GradientBoostingRegressor\n",
        "sk_gbm = GradientBoostingRegressor(random_state=42, max_depth=10)\n",
        "sk_gbm.fit(X_train_maybe[:-leave_out], y_train[:-leave_out])"
      ],
      "execution_count": 108,
      "outputs": [
        {
          "output_type": "stream",
          "text": [
            "/usr/local/lib/python3.7/dist-packages/sklearn/ensemble/_gb.py:1454: DataConversionWarning: A column-vector y was passed when a 1d array was expected. Please change the shape of y to (n_samples, ), for example using ravel().\n",
            "  y = column_or_1d(y, warn=True)\n"
          ],
          "name": "stderr"
        },
        {
          "output_type": "execute_result",
          "data": {
            "text/plain": [
              "GradientBoostingRegressor(alpha=0.9, ccp_alpha=0.0, criterion='friedman_mse',\n",
              "                          init=None, learning_rate=0.1, loss='ls', max_depth=10,\n",
              "                          max_features=None, max_leaf_nodes=None,\n",
              "                          min_impurity_decrease=0.0, min_impurity_split=None,\n",
              "                          min_samples_leaf=1, min_samples_split=2,\n",
              "                          min_weight_fraction_leaf=0.0, n_estimators=100,\n",
              "                          n_iter_no_change=None, presort='deprecated',\n",
              "                          random_state=42, subsample=1.0, tol=0.0001,\n",
              "                          validation_fraction=0.1, verbose=0, warm_start=False)"
            ]
          },
          "metadata": {
            "tags": []
          },
          "execution_count": 108
        }
      ]
    },
    {
      "cell_type": "code",
      "metadata": {
        "colab": {
          "base_uri": "https://localhost:8080/"
        },
        "id": "Wj9i57DWTSue",
        "outputId": "356fbc31-c7f1-4902-e9ab-ce32c50e309e"
      },
      "source": [
        "print(sklearn.metrics.mean_squared_error(sk_gbm.predict(X_train_maybe[:-leave_out]), y_train[:-leave_out], squared=False))\n",
        "print(sklearn.metrics.mean_squared_error(sk_gbm.predict(X_train_maybe[leave_out:]), y_train[leave_out:], squared=False))"
      ],
      "execution_count": 109,
      "outputs": [
        {
          "output_type": "stream",
          "text": [
            "95258.26056886115\n",
            "108502.01112492318\n"
          ],
          "name": "stdout"
        }
      ]
    },
    {
      "cell_type": "code",
      "metadata": {
        "colab": {
          "base_uri": "https://localhost:8080/"
        },
        "id": "3iEhIo08Ujgt",
        "outputId": "0a9f985d-e7d2-4c30-a006-8777650bf014"
      },
      "source": [
        "from sklearn.ensemble import RandomForestRegressor\n",
        "regr = RandomForestRegressor(max_depth=10, random_state=42)\n",
        "regr.fit(X_train_maybe[:-leave_out], y_train[:-leave_out])"
      ],
      "execution_count": 76,
      "outputs": [
        {
          "output_type": "stream",
          "text": [
            "/usr/local/lib/python3.7/dist-packages/ipykernel_launcher.py:3: DataConversionWarning: A column-vector y was passed when a 1d array was expected. Please change the shape of y to (n_samples,), for example using ravel().\n",
            "  This is separate from the ipykernel package so we can avoid doing imports until\n"
          ],
          "name": "stderr"
        },
        {
          "output_type": "execute_result",
          "data": {
            "text/plain": [
              "RandomForestRegressor(bootstrap=True, ccp_alpha=0.0, criterion='mse',\n",
              "                      max_depth=10, max_features='auto', max_leaf_nodes=None,\n",
              "                      max_samples=None, min_impurity_decrease=0.0,\n",
              "                      min_impurity_split=None, min_samples_leaf=1,\n",
              "                      min_samples_split=2, min_weight_fraction_leaf=0.0,\n",
              "                      n_estimators=100, n_jobs=None, oob_score=False,\n",
              "                      random_state=42, verbose=0, warm_start=False)"
            ]
          },
          "metadata": {
            "tags": []
          },
          "execution_count": 76
        }
      ]
    },
    {
      "cell_type": "code",
      "metadata": {
        "colab": {
          "base_uri": "https://localhost:8080/"
        },
        "id": "CbFL9aavVBNL",
        "outputId": "dc9cee27-03c1-4918-ce33-69d1c32af5fb"
      },
      "source": [
        "print(sklearn.metrics.mean_squared_error(regr.predict(X_train_maybe[:-leave_out]), y_train[:-leave_out], squared=False))\n",
        "print(sklearn.metrics.mean_squared_error(regr.predict(X_train_maybe[leave_out:]), y_train[leave_out:], squared=False))"
      ],
      "execution_count": 77,
      "outputs": [
        {
          "output_type": "stream",
          "text": [
            "200626.8790145207\n",
            "201542.45794793376\n"
          ],
          "name": "stdout"
        }
      ]
    },
    {
      "cell_type": "code",
      "metadata": {
        "colab": {
          "base_uri": "https://localhost:8080/"
        },
        "id": "bQTdTLuH66vp",
        "outputId": "c4c85917-8796-4f1f-ca00-8b410b3e81b2"
      },
      "source": [
        "from sklearn.linear_model import LinearRegression\n",
        "lr = LinearRegression()\n",
        "lr.fit(X_train_maybe[:-leave_out], y_train[:-leave_out])"
      ],
      "execution_count": 84,
      "outputs": [
        {
          "output_type": "execute_result",
          "data": {
            "text/plain": [
              "LinearRegression(copy_X=True, fit_intercept=True, n_jobs=None, normalize=False)"
            ]
          },
          "metadata": {
            "tags": []
          },
          "execution_count": 84
        }
      ]
    },
    {
      "cell_type": "code",
      "metadata": {
        "colab": {
          "base_uri": "https://localhost:8080/"
        },
        "id": "dOUGnEmsVpXM",
        "outputId": "0435ce20-751d-466c-8af7-c075fb05c159"
      },
      "source": [
        "print(sklearn.metrics.mean_squared_error(lr.predict(X_train_maybe[:-leave_out]), y_train[:-leave_out], squared=False))\n",
        "print(sklearn.metrics.mean_squared_error(lr.predict(X_train_maybe[leave_out:]), y_train[leave_out:], squared=False))"
      ],
      "execution_count": 85,
      "outputs": [
        {
          "output_type": "stream",
          "text": [
            "355209.5890155941\n",
            "352528.93050029676\n"
          ],
          "name": "stdout"
        }
      ]
    },
    {
      "cell_type": "code",
      "metadata": {
        "colab": {
          "base_uri": "https://localhost:8080/"
        },
        "id": "UIuWj_sHVvY7",
        "outputId": "022b15a1-b151-4b66-c620-c90f50681dd1"
      },
      "source": [
        "from sklearn.svm import SVR\n",
        "svr = SVR(max_iter=1000, kernel='rbf')\n",
        "svr.fit(X_train_maybe[:-leave_out], y_train[:-leave_out])"
      ],
      "execution_count": 88,
      "outputs": [
        {
          "output_type": "stream",
          "text": [
            "/usr/local/lib/python3.7/dist-packages/sklearn/utils/validation.py:760: DataConversionWarning: A column-vector y was passed when a 1d array was expected. Please change the shape of y to (n_samples, ), for example using ravel().\n",
            "  y = column_or_1d(y, warn=True)\n",
            "/usr/local/lib/python3.7/dist-packages/sklearn/svm/_base.py:231: ConvergenceWarning: Solver terminated early (max_iter=1000).  Consider pre-processing your data with StandardScaler or MinMaxScaler.\n",
            "  % self.max_iter, ConvergenceWarning)\n"
          ],
          "name": "stderr"
        },
        {
          "output_type": "execute_result",
          "data": {
            "text/plain": [
              "SVR(C=1.0, cache_size=200, coef0=0.0, degree=3, epsilon=0.1, gamma='scale',\n",
              "    kernel='rbf', max_iter=1000, shrinking=True, tol=0.001, verbose=False)"
            ]
          },
          "metadata": {
            "tags": []
          },
          "execution_count": 88
        }
      ]
    },
    {
      "cell_type": "code",
      "metadata": {
        "colab": {
          "base_uri": "https://localhost:8080/"
        },
        "id": "czuf7Zl0WGUS",
        "outputId": "e94d95e0-9515-4cbc-e6e9-278ed9e17b48"
      },
      "source": [
        "print(sklearn.metrics.mean_squared_error(svr.predict(X_train_maybe[:-leave_out]), y_train[:-leave_out], squared=False))\n",
        "print(sklearn.metrics.mean_squared_error(svr.predict(X_train_maybe[leave_out:]), y_train[leave_out:], squared=False))"
      ],
      "execution_count": 89,
      "outputs": [
        {
          "output_type": "stream",
          "text": [
            "629001.8326015454\n",
            "627749.1708672319\n"
          ],
          "name": "stdout"
        }
      ]
    },
    {
      "cell_type": "code",
      "metadata": {
        "colab": {
          "base_uri": "https://localhost:8080/"
        },
        "id": "ql4cTaIgL4Ca",
        "outputId": "1da9755a-f31e-4e82-cff3-d98ab347c271"
      },
      "source": [
        "from sklearn.svm import SVR\n",
        "svr = SVR(max_iter=1000, kernel='poly')\n",
        "svr.fit(X_train_maybe[:-leave_out], y_train[:-leave_out])"
      ],
      "execution_count": 94,
      "outputs": [
        {
          "output_type": "stream",
          "text": [
            "/usr/local/lib/python3.7/dist-packages/sklearn/utils/validation.py:760: DataConversionWarning: A column-vector y was passed when a 1d array was expected. Please change the shape of y to (n_samples, ), for example using ravel().\n",
            "  y = column_or_1d(y, warn=True)\n",
            "/usr/local/lib/python3.7/dist-packages/sklearn/svm/_base.py:231: ConvergenceWarning: Solver terminated early (max_iter=1000).  Consider pre-processing your data with StandardScaler or MinMaxScaler.\n",
            "  % self.max_iter, ConvergenceWarning)\n"
          ],
          "name": "stderr"
        },
        {
          "output_type": "execute_result",
          "data": {
            "text/plain": [
              "SVR(C=1.0, cache_size=200, coef0=0.0, degree=3, epsilon=0.1, gamma='scale',\n",
              "    kernel='poly', max_iter=1000, shrinking=True, tol=0.001, verbose=False)"
            ]
          },
          "metadata": {
            "tags": []
          },
          "execution_count": 94
        }
      ]
    },
    {
      "cell_type": "code",
      "metadata": {
        "colab": {
          "base_uri": "https://localhost:8080/"
        },
        "id": "5za5rD4fL4pi",
        "outputId": "b82ee9b6-526d-464e-ca38-f91cc1da42c6"
      },
      "source": [
        "print(sklearn.metrics.mean_squared_error(svr.predict(X_train_maybe[:-leave_out]), y_train[:-leave_out], squared=False))\n",
        "print(sklearn.metrics.mean_squared_error(svr.predict(X_train_maybe[leave_out:]), y_train[leave_out:], squared=False))"
      ],
      "execution_count": 95,
      "outputs": [
        {
          "output_type": "stream",
          "text": [
            "628964.8035077819\n",
            "627711.9862902322\n"
          ],
          "name": "stdout"
        }
      ]
    },
    {
      "cell_type": "code",
      "metadata": {
        "colab": {
          "base_uri": "https://localhost:8080/"
        },
        "id": "CgXVPYxjLM4O",
        "outputId": "2079382a-6306-45f0-bcf6-50ada9628c05"
      },
      "source": [
        "from sklearn.linear_model import ElasticNet\n",
        "regr = ElasticNet(random_state=42, max_iter=1000)\n",
        "regr.fit(X_train_maybe, y_train)"
      ],
      "execution_count": 92,
      "outputs": [
        {
          "output_type": "execute_result",
          "data": {
            "text/plain": [
              "ElasticNet(alpha=1.0, copy_X=True, fit_intercept=True, l1_ratio=0.5,\n",
              "           max_iter=10000, normalize=False, positive=False, precompute=False,\n",
              "           random_state=42, selection='cyclic', tol=0.0001, warm_start=False)"
            ]
          },
          "metadata": {
            "tags": []
          },
          "execution_count": 92
        }
      ]
    },
    {
      "cell_type": "code",
      "metadata": {
        "colab": {
          "base_uri": "https://localhost:8080/"
        },
        "id": "vSGPBjlQLcXj",
        "outputId": "67fadfd6-c6e7-4a01-d3b9-db37594372d3"
      },
      "source": [
        "print(sklearn.metrics.mean_squared_error(regr.predict(X_train_maybe[:-leave_out]), y_train[:-leave_out], squared=False))\n",
        "print(sklearn.metrics.mean_squared_error(regr.predict(X_train_maybe[leave_out:]), y_train[leave_out:], squared=False))"
      ],
      "execution_count": 93,
      "outputs": [
        {
          "output_type": "stream",
          "text": [
            "362781.5967797893\n",
            "360125.25225522637\n"
          ],
          "name": "stdout"
        }
      ]
    },
    {
      "cell_type": "markdown",
      "metadata": {
        "id": "RiZD-BwGMKT7"
      },
      "source": [
        "Let's start stacking"
      ]
    },
    {
      "cell_type": "code",
      "metadata": {
        "id": "tNuS9emmNsfV"
      },
      "source": [
        "xgb_model = xgb.XGBRegressor(random_state=42, max_depth=10, objective='reg:squarederror')\n",
        "\n",
        "params = {'num_leaves': 100}\n",
        "lgb_data = lgb.Dataset(X_train_ready, label=y_train)\n",
        "bst = lgb.train(params, lgb_data, 100)\n",
        "\n",
        "from sklearn.ensemble import GradientBoostingRegressor\n",
        "sk_gbm = GradientBoostingRegressor(random_state=42, max_depth=10)\n",
        "\n",
        "# from sklearn.ensemble import RandomForestRegressor\n",
        "regr = RandomForestRegressor(max_depth=10, random_state=42)\n",
        "\n",
        "# from sklearn.linear_model import LinearRegression\n",
        "lr = LinearRegression()\n",
        "\n",
        "# from sklearn.svm import SVR\n",
        "svr = SVR(max_iter=1000, kernel='rbf')\n",
        "svr = SVR(max_iter=1000, kernel='poly')\n",
        "\n",
        "# from sklearn.linear_model import ElasticNet\n",
        "regr = ElasticNet(random_state=42, max_iter=1000)"
      ],
      "execution_count": 98,
      "outputs": []
    },
    {
      "cell_type": "code",
      "metadata": {
        "id": "0IkoB1saWMlM"
      },
      "source": [
        "leave_out = 40000"
      ],
      "execution_count": 225,
      "outputs": []
    },
    {
      "cell_type": "code",
      "metadata": {
        "colab": {
          "base_uri": "https://localhost:8080/"
        },
        "id": "d0hPJNIYTgMy",
        "outputId": "1f2fc3a9-e67e-4600-8008-a66598caa607"
      },
      "source": [
        "# XGBOOST MODELS\n",
        "xgb_model = xgb.XGBRegressor(random_state=42, max_depth=10, objective='reg:squarederror', n_estimators=100)\n",
        "xgb_model.fit(X_train_maybe[:-leave_out], y_train[:-leave_out])\n",
        "\n",
        "xgb_model1 = xgb.XGBRegressor(random_state=42, max_depth=10, objective='reg:squarederror', learning_rate=0.05, n_estimators=100)\n",
        "xgb_model1.fit(X_train_maybe[:-leave_out], y_train[:-leave_out])\n",
        "\n",
        "xgb_model1 = xgb.XGBRegressor(random_state=42, max_depth=10, objective='reg:squarederror', learning_rate=0.05, n_estimators=100)\n",
        "xgb_model1.fit(X_train_maybe[:-leave_out], y_train[:-leave_out])"
      ],
      "execution_count": 105,
      "outputs": [
        {
          "output_type": "execute_result",
          "data": {
            "text/plain": [
              "XGBRegressor(base_score=0.5, booster='gbtree', colsample_bylevel=1,\n",
              "             colsample_bynode=1, colsample_bytree=1, gamma=0,\n",
              "             importance_type='gain', learning_rate=0.05, max_delta_step=0,\n",
              "             max_depth=10, min_child_weight=1, missing=None, n_estimators=100,\n",
              "             n_jobs=1, nthread=None, objective='reg:squarederror',\n",
              "             random_state=42, reg_alpha=0, reg_lambda=1, scale_pos_weight=1,\n",
              "             seed=None, silent=None, subsample=1, verbosity=1)"
            ]
          },
          "metadata": {
            "tags": []
          },
          "execution_count": 105
        }
      ]
    },
    {
      "cell_type": "code",
      "metadata": {
        "id": "1-Qz9jwLT4T5"
      },
      "source": [
        "# LightGBM MODELS - FAST FAST !!\n",
        "bst = lgb.train({'num_leaves': 100}, lgb.Dataset(X_train_ready[:-leave_out], label=y_train[:-leave_out]), num_boost_round=100)\n",
        "bst1 = lgb.train({'num_leaves': 100}, lgb.Dataset(X_train_ready[:-leave_out], label=y_train[:-leave_out]), num_boost_round=200)\n",
        "bst2 = lgb.train({'num_leaves': 100}, lgb.Dataset(X_train_ready[:-leave_out], label=y_train[:-leave_out]), num_boost_round=300)\n",
        "bst3 = lgb.train({'num_leaves': 100}, lgb.Dataset(X_train_ready[:-leave_out], label=y_train[:-leave_out]), num_boost_round=400)\n",
        "bst4 = lgb.train({'num_leaves': 100}, lgb.Dataset(X_train_ready[:-leave_out], label=y_train[:-leave_out]), num_boost_round=500)"
      ],
      "execution_count": 113,
      "outputs": []
    },
    {
      "cell_type": "code",
      "metadata": {
        "colab": {
          "base_uri": "https://localhost:8080/"
        },
        "id": "rHzZkIjhUKSJ",
        "outputId": "5d793f80-9b15-4ef4-ba71-314d7d5a6b8b"
      },
      "source": [
        "# sklearn GB-reg\n",
        "sk_gbm = GradientBoostingRegressor(random_state=42, max_depth=10)\n",
        "sk_gbm.fit(X_train_maybe[:-leave_out], y_train[:-leave_out])\n",
        "sk_gbm1 = GradientBoostingRegressor(random_state=42, max_depth=11)\n",
        "sk_gbm1.fit(X_train_maybe[:-leave_out], y_train[:-leave_out])\n",
        "sk_gbm1 = GradientBoostingRegressor(random_state=42, max_depth=11, n_estimators=100)\n",
        "sk_gbm1.fit(X_train_maybe[:-leave_out], y_train[:-leave_out])"
      ],
      "execution_count": 115,
      "outputs": [
        {
          "output_type": "stream",
          "text": [
            "/usr/local/lib/python3.7/dist-packages/sklearn/ensemble/_gb.py:1454: DataConversionWarning: A column-vector y was passed when a 1d array was expected. Please change the shape of y to (n_samples, ), for example using ravel().\n",
            "  y = column_or_1d(y, warn=True)\n",
            "/usr/local/lib/python3.7/dist-packages/sklearn/ensemble/_gb.py:1454: DataConversionWarning: A column-vector y was passed when a 1d array was expected. Please change the shape of y to (n_samples, ), for example using ravel().\n",
            "  y = column_or_1d(y, warn=True)\n"
          ],
          "name": "stderr"
        },
        {
          "output_type": "execute_result",
          "data": {
            "text/plain": [
              "GradientBoostingRegressor(alpha=0.9, ccp_alpha=0.0, criterion='friedman_mse',\n",
              "                          init=None, learning_rate=0.1, loss='ls', max_depth=11,\n",
              "                          max_features=None, max_leaf_nodes=None,\n",
              "                          min_impurity_decrease=0.0, min_impurity_split=None,\n",
              "                          min_samples_leaf=1, min_samples_split=2,\n",
              "                          min_weight_fraction_leaf=0.0, n_estimators=100,\n",
              "                          n_iter_no_change=None, presort='deprecated',\n",
              "                          random_state=42, subsample=1.0, tol=0.0001,\n",
              "                          validation_fraction=0.1, verbose=0, warm_start=False)"
            ]
          },
          "metadata": {
            "tags": []
          },
          "execution_count": 115
        }
      ]
    },
    {
      "cell_type": "code",
      "metadata": {
        "colab": {
          "base_uri": "https://localhost:8080/"
        },
        "id": "nASJ9gcuUY4q",
        "outputId": "e709d458-10ee-4f6a-92e1-522c5f502fdf"
      },
      "source": [
        "# sklearn RF-reg\n",
        "regr = RandomForestRegressor(max_depth=10, random_state=42, n_estimators=100)\n",
        "regr.fit(X_train_maybe[:-leave_out], y_train[:-leave_out])\n",
        "regr1 = RandomForestRegressor(max_depth=10, random_state=42, n_estimators=150)\n",
        "regr1.fit(X_train_maybe[:-leave_out], y_train[:-leave_out])"
      ],
      "execution_count": 120,
      "outputs": [
        {
          "output_type": "stream",
          "text": [
            "/usr/local/lib/python3.7/dist-packages/ipykernel_launcher.py:3: DataConversionWarning: A column-vector y was passed when a 1d array was expected. Please change the shape of y to (n_samples,), for example using ravel().\n",
            "  This is separate from the ipykernel package so we can avoid doing imports until\n",
            "/usr/local/lib/python3.7/dist-packages/ipykernel_launcher.py:5: DataConversionWarning: A column-vector y was passed when a 1d array was expected. Please change the shape of y to (n_samples,), for example using ravel().\n",
            "  \"\"\"\n",
            "/usr/local/lib/python3.7/dist-packages/ipykernel_launcher.py:7: DataConversionWarning: A column-vector y was passed when a 1d array was expected. Please change the shape of y to (n_samples,), for example using ravel().\n",
            "  import sys\n",
            "/usr/local/lib/python3.7/dist-packages/ipykernel_launcher.py:9: DataConversionWarning: A column-vector y was passed when a 1d array was expected. Please change the shape of y to (n_samples,), for example using ravel().\n",
            "  if __name__ == '__main__':\n"
          ],
          "name": "stderr"
        },
        {
          "output_type": "execute_result",
          "data": {
            "text/plain": [
              "RandomForestRegressor(bootstrap=True, ccp_alpha=0.0, criterion='mse',\n",
              "                      max_depth=20, max_features='auto', max_leaf_nodes=None,\n",
              "                      max_samples=None, min_impurity_decrease=0.0,\n",
              "                      min_impurity_split=None, min_samples_leaf=1,\n",
              "                      min_samples_split=2, min_weight_fraction_leaf=0.0,\n",
              "                      n_estimators=200, n_jobs=None, oob_score=False,\n",
              "                      random_state=42, verbose=0, warm_start=False)"
            ]
          },
          "metadata": {
            "tags": []
          },
          "execution_count": 120
        }
      ]
    },
    {
      "cell_type": "code",
      "metadata": {
        "colab": {
          "base_uri": "https://localhost:8080/"
        },
        "id": "9eNc2uAXUjIZ",
        "outputId": "cccbdadf-780e-4a99-9019-151e2f74695e"
      },
      "source": [
        "# sklearn LR\n",
        "lr = LinearRegression()\n",
        "lr.fit(X_train_maybe[:-leave_out], y_train[:-leave_out])"
      ],
      "execution_count": 126,
      "outputs": [
        {
          "output_type": "execute_result",
          "data": {
            "text/plain": [
              "LinearRegression(copy_X=True, fit_intercept=True, n_jobs=None, normalize=False)"
            ]
          },
          "metadata": {
            "tags": []
          },
          "execution_count": 126
        }
      ]
    },
    {
      "cell_type": "code",
      "metadata": {
        "colab": {
          "base_uri": "https://localhost:8080/"
        },
        "id": "b69pu8nBUvRl",
        "outputId": "5419c7cd-121f-4ce3-e732-f46862ad97e9"
      },
      "source": [
        "# sklearn ElasticNet\n",
        "enet = ElasticNet(random_state=42, max_iter=1000, alpha=.8)\n",
        "enet.fit(X_train_maybe[:-leave_out], y_train[:-leave_out])\n",
        "enet1 = ElasticNet(random_state=42, max_iter=1000, alpha=.9, l1_ratio=.9)\n",
        "enet1.fit(X_train_maybe[:-leave_out], y_train[:-leave_out])\n",
        "enet2 = ElasticNet(random_state=42, max_iter=1000)\n",
        "enet2.fit(X_train_maybe[:-leave_out], y_train[:-leave_out])"
      ],
      "execution_count": 129,
      "outputs": [
        {
          "output_type": "stream",
          "text": [
            "/usr/local/lib/python3.7/dist-packages/sklearn/linear_model/_coordinate_descent.py:476: ConvergenceWarning: Objective did not converge. You might want to increase the number of iterations. Duality gap: 4302156120694931.0, tolerance: 1102078172617.1133\n",
            "  positive)\n",
            "/usr/local/lib/python3.7/dist-packages/sklearn/linear_model/_coordinate_descent.py:476: ConvergenceWarning: Objective did not converge. You might want to increase the number of iterations. Duality gap: 4784674329586068.0, tolerance: 1102078172617.1133\n",
            "  positive)\n",
            "/usr/local/lib/python3.7/dist-packages/sklearn/linear_model/_coordinate_descent.py:476: ConvergenceWarning: Objective did not converge. You might want to increase the number of iterations. Duality gap: 3059636918434583.0, tolerance: 1102078172617.1133\n",
            "  positive)\n"
          ],
          "name": "stderr"
        },
        {
          "output_type": "execute_result",
          "data": {
            "text/plain": [
              "ElasticNet(alpha=1.0, copy_X=True, fit_intercept=True, l1_ratio=0.5,\n",
              "           max_iter=1000, normalize=False, positive=False, precompute=False,\n",
              "           random_state=42, selection='cyclic', tol=0.0001, warm_start=False)"
            ]
          },
          "metadata": {
            "tags": []
          },
          "execution_count": 129
        }
      ]
    },
    {
      "cell_type": "code",
      "metadata": {
        "colab": {
          "base_uri": "https://localhost:8080/"
        },
        "id": "MnNzMxv6UpVx",
        "outputId": "01081bf4-2845-45c5-9919-d1ca4d7e2cba"
      },
      "source": [
        "# sklearn SVR\n",
        "svr = SVR(max_iter=1000, kernel='rbf')\n",
        "svr.fit(X_train_maybe[:-leave_out], y_train[:-leave_out])\n",
        "svr1 = SVR(max_iter=1000, kernel='poly')\n",
        "svr1.fit(X_train_maybe[:-leave_out], y_train[:-leave_out])"
      ],
      "execution_count": 134,
      "outputs": [
        {
          "output_type": "stream",
          "text": [
            "/usr/local/lib/python3.7/dist-packages/sklearn/utils/validation.py:760: DataConversionWarning: A column-vector y was passed when a 1d array was expected. Please change the shape of y to (n_samples, ), for example using ravel().\n",
            "  y = column_or_1d(y, warn=True)\n",
            "/usr/local/lib/python3.7/dist-packages/sklearn/svm/_base.py:231: ConvergenceWarning: Solver terminated early (max_iter=1000).  Consider pre-processing your data with StandardScaler or MinMaxScaler.\n",
            "  % self.max_iter, ConvergenceWarning)\n",
            "/usr/local/lib/python3.7/dist-packages/sklearn/utils/validation.py:760: DataConversionWarning: A column-vector y was passed when a 1d array was expected. Please change the shape of y to (n_samples, ), for example using ravel().\n",
            "  y = column_or_1d(y, warn=True)\n",
            "/usr/local/lib/python3.7/dist-packages/sklearn/svm/_base.py:231: ConvergenceWarning: Solver terminated early (max_iter=1000).  Consider pre-processing your data with StandardScaler or MinMaxScaler.\n",
            "  % self.max_iter, ConvergenceWarning)\n"
          ],
          "name": "stderr"
        },
        {
          "output_type": "execute_result",
          "data": {
            "text/plain": [
              "SVR(C=1.0, cache_size=200, coef0=0.0, degree=3, epsilon=0.1, gamma='scale',\n",
              "    kernel='poly', max_iter=1000, shrinking=True, tol=0.001, verbose=False)"
            ]
          },
          "metadata": {
            "tags": []
          },
          "execution_count": 134
        }
      ]
    },
    {
      "cell_type": "code",
      "metadata": {
        "id": "QG9rQNmuUuPS"
      },
      "source": [
        "ensemble = [xgb_model, xgb_model1, bst, bst1, bst2, bst3, bst4, sk_gbm, sk_gbm1, \\\n",
        "            regr, regr1,# regr2, regr3, \\\n",
        "            lr, enet, enet1, enet2, svr, svr1]"
      ],
      "execution_count": 174,
      "outputs": []
    },
    {
      "cell_type": "code",
      "metadata": {
        "id": "pHWW0rEYpvOz"
      },
      "source": [
        "y_stack = []\n",
        "for m in ensemble:\n",
        "  y_stack.append(m.predict(X_train_maybe[-leave_out:-5000]))"
      ],
      "execution_count": 187,
      "outputs": []
    },
    {
      "cell_type": "code",
      "metadata": {
        "id": "MTKdzeSRr9fp"
      },
      "source": [
        "y_stack[-6] = y_stack[-6].reshape(5000,)"
      ],
      "execution_count": 189,
      "outputs": []
    },
    {
      "cell_type": "code",
      "metadata": {
        "id": "4YpOygMXsbmT"
      },
      "source": [
        "y_stack = np.array(y_stack)"
      ],
      "execution_count": 190,
      "outputs": []
    },
    {
      "cell_type": "code",
      "metadata": {
        "colab": {
          "base_uri": "https://localhost:8080/"
        },
        "id": "LvrQxagOsdgk",
        "outputId": "dbb2dfff-6144-469e-f029-79f4c0967d79"
      },
      "source": [
        "y_stack = y_stack.T\n",
        "y_stack.shape"
      ],
      "execution_count": 191,
      "outputs": [
        {
          "output_type": "execute_result",
          "data": {
            "text/plain": [
              "(5000, 17)"
            ]
          },
          "metadata": {
            "tags": []
          },
          "execution_count": 191
        }
      ]
    },
    {
      "cell_type": "code",
      "metadata": {
        "colab": {
          "base_uri": "https://localhost:8080/",
          "height": 354
        },
        "id": "uu54xP27stpM",
        "outputId": "0fefb9b0-ade6-485d-a449-4df3f6050463"
      },
      "source": [
        "king_gb = GradientBoostingRegressor(random_state=42, max_depth=3, n_estimators=10)\n",
        "king_gb.fit(y_stack, y_train[-leave_out:-5000])\n",
        "# king_lr = LinearRegression()\n",
        "# king_lr.fit(y_stack, y_train[-leave_out:-5000])"
      ],
      "execution_count": 226,
      "outputs": [
        {
          "output_type": "error",
          "ename": "ValueError",
          "evalue": "ignored",
          "traceback": [
            "\u001b[0;31m---------------------------------------------------------------------------\u001b[0m",
            "\u001b[0;31mValueError\u001b[0m                                Traceback (most recent call last)",
            "\u001b[0;32m<ipython-input-226-10d41b08680c>\u001b[0m in \u001b[0;36m<module>\u001b[0;34m()\u001b[0m\n\u001b[1;32m      1\u001b[0m \u001b[0mking_gb\u001b[0m \u001b[0;34m=\u001b[0m \u001b[0mGradientBoostingRegressor\u001b[0m\u001b[0;34m(\u001b[0m\u001b[0mrandom_state\u001b[0m\u001b[0;34m=\u001b[0m\u001b[0;36m42\u001b[0m\u001b[0;34m,\u001b[0m \u001b[0mmax_depth\u001b[0m\u001b[0;34m=\u001b[0m\u001b[0;36m3\u001b[0m\u001b[0;34m,\u001b[0m \u001b[0mn_estimators\u001b[0m\u001b[0;34m=\u001b[0m\u001b[0;36m10\u001b[0m\u001b[0;34m)\u001b[0m\u001b[0;34m\u001b[0m\u001b[0;34m\u001b[0m\u001b[0m\n\u001b[0;32m----> 2\u001b[0;31m \u001b[0mking_gb\u001b[0m\u001b[0;34m.\u001b[0m\u001b[0mfit\u001b[0m\u001b[0;34m(\u001b[0m\u001b[0my_stack\u001b[0m\u001b[0;34m,\u001b[0m \u001b[0my_train\u001b[0m\u001b[0;34m[\u001b[0m\u001b[0;34m-\u001b[0m\u001b[0mleave_out\u001b[0m\u001b[0;34m:\u001b[0m\u001b[0;34m-\u001b[0m\u001b[0;36m5000\u001b[0m\u001b[0;34m]\u001b[0m\u001b[0;34m)\u001b[0m\u001b[0;34m\u001b[0m\u001b[0;34m\u001b[0m\u001b[0m\n\u001b[0m\u001b[1;32m      3\u001b[0m \u001b[0;31m# king_lr = LinearRegression()\u001b[0m\u001b[0;34m\u001b[0m\u001b[0;34m\u001b[0m\u001b[0;34m\u001b[0m\u001b[0m\n\u001b[1;32m      4\u001b[0m \u001b[0;31m# king_lr.fit(y_stack, y_train[-leave_out:-5000])\u001b[0m\u001b[0;34m\u001b[0m\u001b[0;34m\u001b[0m\u001b[0;34m\u001b[0m\u001b[0m\n",
            "\u001b[0;32m/usr/local/lib/python3.7/dist-packages/sklearn/ensemble/_gb.py\u001b[0m in \u001b[0;36mfit\u001b[0;34m(self, X, y, sample_weight, monitor)\u001b[0m\n\u001b[1;32m   1449\u001b[0m             \u001b[0msample_weight_is_none\u001b[0m \u001b[0;34m=\u001b[0m \u001b[0;32mFalse\u001b[0m\u001b[0;34m\u001b[0m\u001b[0;34m\u001b[0m\u001b[0m\n\u001b[1;32m   1450\u001b[0m \u001b[0;34m\u001b[0m\u001b[0m\n\u001b[0;32m-> 1451\u001b[0;31m         \u001b[0mcheck_consistent_length\u001b[0m\u001b[0;34m(\u001b[0m\u001b[0mX\u001b[0m\u001b[0;34m,\u001b[0m \u001b[0my\u001b[0m\u001b[0;34m,\u001b[0m \u001b[0msample_weight\u001b[0m\u001b[0;34m)\u001b[0m\u001b[0;34m\u001b[0m\u001b[0;34m\u001b[0m\u001b[0m\n\u001b[0m\u001b[1;32m   1452\u001b[0m \u001b[0;34m\u001b[0m\u001b[0m\n\u001b[1;32m   1453\u001b[0m         \u001b[0my\u001b[0m \u001b[0;34m=\u001b[0m \u001b[0mcheck_array\u001b[0m\u001b[0;34m(\u001b[0m\u001b[0my\u001b[0m\u001b[0;34m,\u001b[0m \u001b[0maccept_sparse\u001b[0m\u001b[0;34m=\u001b[0m\u001b[0;34m'csc'\u001b[0m\u001b[0;34m,\u001b[0m \u001b[0mensure_2d\u001b[0m\u001b[0;34m=\u001b[0m\u001b[0;32mFalse\u001b[0m\u001b[0;34m,\u001b[0m \u001b[0mdtype\u001b[0m\u001b[0;34m=\u001b[0m\u001b[0;32mNone\u001b[0m\u001b[0;34m)\u001b[0m\u001b[0;34m\u001b[0m\u001b[0;34m\u001b[0m\u001b[0m\n",
            "\u001b[0;32m/usr/local/lib/python3.7/dist-packages/sklearn/utils/validation.py\u001b[0m in \u001b[0;36mcheck_consistent_length\u001b[0;34m(*arrays)\u001b[0m\n\u001b[1;32m    210\u001b[0m     \u001b[0;32mif\u001b[0m \u001b[0mlen\u001b[0m\u001b[0;34m(\u001b[0m\u001b[0muniques\u001b[0m\u001b[0;34m)\u001b[0m \u001b[0;34m>\u001b[0m \u001b[0;36m1\u001b[0m\u001b[0;34m:\u001b[0m\u001b[0;34m\u001b[0m\u001b[0;34m\u001b[0m\u001b[0m\n\u001b[1;32m    211\u001b[0m         raise ValueError(\"Found input variables with inconsistent numbers of\"\n\u001b[0;32m--> 212\u001b[0;31m                          \" samples: %r\" % [int(l) for l in lengths])\n\u001b[0m\u001b[1;32m    213\u001b[0m \u001b[0;34m\u001b[0m\u001b[0m\n\u001b[1;32m    214\u001b[0m \u001b[0;34m\u001b[0m\u001b[0m\n",
            "\u001b[0;31mValueError\u001b[0m: Found input variables with inconsistent numbers of samples: [5000, 35000, 5000]"
          ]
        }
      ]
    },
    {
      "cell_type": "code",
      "metadata": {
        "id": "_zLuqawPtJQA"
      },
      "source": [
        "y_stack_val = []\n",
        "for m in ensemble:\n",
        "  y_stack_val.append(m.predict(X_train_maybe[-5000:]))"
      ],
      "execution_count": 216,
      "outputs": []
    },
    {
      "cell_type": "code",
      "metadata": {
        "id": "dPg5pZFVtY3K"
      },
      "source": [
        "y_stack_val[-6] = y_stack_val[-6].reshape(5000,)"
      ],
      "execution_count": 217,
      "outputs": []
    },
    {
      "cell_type": "code",
      "metadata": {
        "id": "kVBDUDoBtpoD"
      },
      "source": [
        "y_stack_val = np.array(y_stack_val).T"
      ],
      "execution_count": 218,
      "outputs": []
    },
    {
      "cell_type": "code",
      "metadata": {
        "colab": {
          "base_uri": "https://localhost:8080/"
        },
        "id": "-GU1RlbOts9I",
        "outputId": "94f8d34e-0fb2-4ba9-e5d1-da7fdd7b1ed1"
      },
      "source": [
        "y_stack_val.shape"
      ],
      "execution_count": 219,
      "outputs": [
        {
          "output_type": "execute_result",
          "data": {
            "text/plain": [
              "(5000, 17)"
            ]
          },
          "metadata": {
            "tags": []
          },
          "execution_count": 219
        }
      ]
    },
    {
      "cell_type": "code",
      "metadata": {
        "colab": {
          "base_uri": "https://localhost:8080/"
        },
        "id": "7fy0oD3hYimU",
        "outputId": "e6d3af63-496d-41e0-c9a5-f4c8453cb602"
      },
      "source": [
        "print(sklearn.metrics.mean_squared_error(king_gb.predict(y_stack), y_train[-leave_out:-5000], squared=False))\n",
        "print(sklearn.metrics.mean_squared_error(king_gb.predict(y_stack_val), y_train[-5000:], squared=False))"
      ],
      "execution_count": 222,
      "outputs": [
        {
          "output_type": "stream",
          "text": [
            "202445.60757200775\n",
            "212909.4560297642\n"
          ],
          "name": "stdout"
        }
      ]
    },
    {
      "cell_type": "code",
      "metadata": {
        "colab": {
          "base_uri": "https://localhost:8080/"
        },
        "id": "6YUGPfI1xrUr",
        "outputId": "fdd9b552-3d9a-4ba6-bb52-f07c949d0135"
      },
      "source": [
        "print(sklearn.metrics.mean_squared_error(xgb_model.predict(X_train_ready[-5000:]), y_train[-leave_out:-5000], squared=False))\n",
        "print(sklearn.metrics.mean_squared_error(xgb_model.predict(X_train_ready[-5000:]), y_train[-5000:], squared=False))"
      ],
      "execution_count": 224,
      "outputs": [
        {
          "output_type": "stream",
          "text": [
            "512703.785837011\n",
            "172748.13273596848\n"
          ],
          "name": "stdout"
        }
      ]
    },
    {
      "cell_type": "markdown",
      "metadata": {
        "id": "X4UOz-HTMMt8"
      },
      "source": [
        "NN"
      ]
    },
    {
      "cell_type": "code",
      "metadata": {
        "id": "OFa6XH25aZi6"
      },
      "source": [
        "def nn(input_dim, output_dim, hidden_layers = 3, nodes = 100, l2_regularization = 0.0,\n",
        "       s = 0.05, random = False, learning_rate = 0.001):\n",
        "  input_layer = Input(shape=(input_dim, ), name='Input_Layer')\n",
        "  l = Dense(nodes, activation = 'relu', \n",
        "            kernel_initializer = tf.compat.v1.keras.initializers.RandomUniform(minval=-s, maxval=s),\n",
        "            kernel_regularizer = regularizers.l2(l2_regularization),\n",
        "            bias_regularizer = regularizers.l2(l2_regularization), \n",
        "            trainable=not(random), name=f'ReLU_Layer_{0}')(input_layer)\n",
        "  for i in range(hidden_layers - 1):\n",
        "    l = Dense(nodes, activation = 'relu', \n",
        "            kernel_initializer = tf.compat.v1.keras.initializers.RandomUniform(minval=-s, maxval=s),\n",
        "            kernel_regularizer = regularizers.l2(l2_regularization),\n",
        "            bias_regularizer = regularizers.l2(l2_regularization), \n",
        "            trainable=not(random), name=f'ReLU_Layer_{i+1}')(l)\n",
        "  l = Dense(output_dim, activation='linear',\n",
        "            kernel_initializer = tf.compat.v1.keras.initializers.RandomUniform(minval=-s, maxval=s),\n",
        "            bias_initializer = tf.compat.v1.keras.initializers.RandomUniform(minval=-s, maxval=s), \n",
        "            kernel_regularizer = regularizers.l2(l2_regularization),\n",
        "            name = f\"Output_Layer\")(l)\n",
        "  model = Model(inputs=[input_layer], outputs=l)\n",
        "  loss_fct = 'MSE'\n",
        "  model.compile(optimizer = tf.keras.optimizers.SGD(lr = learning_rate),\n",
        "                loss = loss_fct, metrics = ['MSE'])\n",
        "  return model\n",
        "\n",
        "def nn_(nodes = 10):\n",
        "  model = keras.Sequential()\n",
        "  model.add(layers.Dense(nodes, activation=\"relu\"))\n",
        "  model.add(layers.Dense(nodes, activation=\"relu\"))\n",
        "  model.add(layers.Dense(1))\n",
        "  model.compile(tf.keras.optimizers.Adam(0.01), 'MSE')\n",
        "  return model"
      ],
      "execution_count": 82,
      "outputs": []
    },
    {
      "cell_type": "code",
      "metadata": {
        "id": "uWBTe9I_dyIh"
      },
      "source": [
        "nn_x_train = X_train_maybe.to_numpy()"
      ],
      "execution_count": 58,
      "outputs": []
    },
    {
      "cell_type": "code",
      "metadata": {
        "id": "NZE1_mNpdCZq"
      },
      "source": [
        "# nn_model = nn(24, 1, learning_rate=0.001)\n",
        "# nn_model = nn_(100)\n",
        "nn_model.fit(np.asarray(X_train_maybe[:-leave_out]).astype('float32'),\n",
        "             np.asarray(y_train[:-leave_out]).astype('float32'),\n",
        "             batch_size=74568, epochs=10)"
      ],
      "execution_count": null,
      "outputs": []
    },
    {
      "cell_type": "code",
      "metadata": {
        "colab": {
          "base_uri": "https://localhost:8080/"
        },
        "id": "y9oTbV0DfFlB",
        "outputId": "9da9062a-d175-44e3-ff8f-5c0b7d8d3968"
      },
      "source": [
        "print(sklearn.metrics.mean_squared_error(nn_model.predict(np.asarray(nn_x_train[:-leave_out]).astype('float32')),\n",
        "                                         y_train[:-leave_out], squared=False))\n",
        "print(sklearn.metrics.mean_squared_error(nn_model.predict(np.asarray(nn_x_train[-leave_out:]).astype('float32')),\n",
        "                                         y_train[-leave_out:], squared=False))"
      ],
      "execution_count": 88,
      "outputs": [
        {
          "output_type": "stream",
          "text": [
            "374533.2869509775\n",
            "374679.1283184782\n"
          ],
          "name": "stdout"
        }
      ]
    },
    {
      "cell_type": "code",
      "metadata": {
        "id": "M6UJETDPghcA"
      },
      "source": [
        ""
      ],
      "execution_count": null,
      "outputs": []
    }
  ]
}